{
 "cells": [
  {
   "cell_type": "code",
   "execution_count": 70,
   "id": "681408ea",
   "metadata": {},
   "outputs": [],
   "source": [
    "import pandas as pd\n",
    "import numpy as np\n",
    "import matplotlib.pyplot as plt\n",
    "import seaborn as sns\n",
    "from sklearn.linear_model import LogisticRegression\n",
    "from sklearn.model_selection import train_test_split\n",
    "from sklearn.metrics import ConfusionMatrixDisplay, accuracy_score"
   ]
  },
  {
   "cell_type": "code",
   "execution_count": 72,
   "id": "1a17e64f",
   "metadata": {},
   "outputs": [],
   "source": [
    "data = pd.read_excel('/Users/navyatrilok/Documents/DATASCIENCE/Datasets/Sepsis.xls')"
   ]
  },
  {
   "cell_type": "code",
   "execution_count": 73,
   "id": "1f34340e",
   "metadata": {},
   "outputs": [
    {
     "data": {
      "text/html": [
       "<div>\n",
       "<style scoped>\n",
       "    .dataframe tbody tr th:only-of-type {\n",
       "        vertical-align: middle;\n",
       "    }\n",
       "\n",
       "    .dataframe tbody tr th {\n",
       "        vertical-align: top;\n",
       "    }\n",
       "\n",
       "    .dataframe thead th {\n",
       "        text-align: right;\n",
       "    }\n",
       "</style>\n",
       "<table border=\"1\" class=\"dataframe\">\n",
       "  <thead>\n",
       "    <tr style=\"text-align: right;\">\n",
       "      <th></th>\n",
       "      <th>Shock</th>\n",
       "      <th>Malnutrition</th>\n",
       "      <th>Alcoholism</th>\n",
       "      <th>Age</th>\n",
       "      <th>Infection</th>\n",
       "      <th>Death</th>\n",
       "    </tr>\n",
       "  </thead>\n",
       "  <tbody>\n",
       "    <tr>\n",
       "      <th>0</th>\n",
       "      <td>0</td>\n",
       "      <td>0</td>\n",
       "      <td>0</td>\n",
       "      <td>56</td>\n",
       "      <td>0</td>\n",
       "      <td>0</td>\n",
       "    </tr>\n",
       "    <tr>\n",
       "      <th>1</th>\n",
       "      <td>0</td>\n",
       "      <td>0</td>\n",
       "      <td>0</td>\n",
       "      <td>80</td>\n",
       "      <td>0</td>\n",
       "      <td>0</td>\n",
       "    </tr>\n",
       "    <tr>\n",
       "      <th>2</th>\n",
       "      <td>0</td>\n",
       "      <td>0</td>\n",
       "      <td>0</td>\n",
       "      <td>61</td>\n",
       "      <td>0</td>\n",
       "      <td>0</td>\n",
       "    </tr>\n",
       "    <tr>\n",
       "      <th>3</th>\n",
       "      <td>0</td>\n",
       "      <td>0</td>\n",
       "      <td>0</td>\n",
       "      <td>26</td>\n",
       "      <td>0</td>\n",
       "      <td>0</td>\n",
       "    </tr>\n",
       "    <tr>\n",
       "      <th>4</th>\n",
       "      <td>0</td>\n",
       "      <td>0</td>\n",
       "      <td>0</td>\n",
       "      <td>53</td>\n",
       "      <td>0</td>\n",
       "      <td>0</td>\n",
       "    </tr>\n",
       "    <tr>\n",
       "      <th>...</th>\n",
       "      <td>...</td>\n",
       "      <td>...</td>\n",
       "      <td>...</td>\n",
       "      <td>...</td>\n",
       "      <td>...</td>\n",
       "      <td>...</td>\n",
       "    </tr>\n",
       "    <tr>\n",
       "      <th>101</th>\n",
       "      <td>0</td>\n",
       "      <td>1</td>\n",
       "      <td>1</td>\n",
       "      <td>49</td>\n",
       "      <td>0</td>\n",
       "      <td>0</td>\n",
       "    </tr>\n",
       "    <tr>\n",
       "      <th>102</th>\n",
       "      <td>0</td>\n",
       "      <td>0</td>\n",
       "      <td>0</td>\n",
       "      <td>25</td>\n",
       "      <td>0</td>\n",
       "      <td>0</td>\n",
       "    </tr>\n",
       "    <tr>\n",
       "      <th>103</th>\n",
       "      <td>1</td>\n",
       "      <td>1</td>\n",
       "      <td>0</td>\n",
       "      <td>44</td>\n",
       "      <td>0</td>\n",
       "      <td>0</td>\n",
       "    </tr>\n",
       "    <tr>\n",
       "      <th>104</th>\n",
       "      <td>0</td>\n",
       "      <td>0</td>\n",
       "      <td>1</td>\n",
       "      <td>56</td>\n",
       "      <td>0</td>\n",
       "      <td>0</td>\n",
       "    </tr>\n",
       "    <tr>\n",
       "      <th>105</th>\n",
       "      <td>0</td>\n",
       "      <td>1</td>\n",
       "      <td>1</td>\n",
       "      <td>42</td>\n",
       "      <td>0</td>\n",
       "      <td>0</td>\n",
       "    </tr>\n",
       "  </tbody>\n",
       "</table>\n",
       "<p>106 rows × 6 columns</p>\n",
       "</div>"
      ],
      "text/plain": [
       "     Shock  Malnutrition  Alcoholism  Age  Infection  Death\n",
       "0        0             0           0   56          0      0\n",
       "1        0             0           0   80          0      0\n",
       "2        0             0           0   61          0      0\n",
       "3        0             0           0   26          0      0\n",
       "4        0             0           0   53          0      0\n",
       "..     ...           ...         ...  ...        ...    ...\n",
       "101      0             1           1   49          0      0\n",
       "102      0             0           0   25          0      0\n",
       "103      1             1           0   44          0      0\n",
       "104      0             0           1   56          0      0\n",
       "105      0             1           1   42          0      0\n",
       "\n",
       "[106 rows x 6 columns]"
      ]
     },
     "execution_count": 73,
     "metadata": {},
     "output_type": "execute_result"
    }
   ],
   "source": [
    "data"
   ]
  },
  {
   "cell_type": "code",
   "execution_count": null,
   "id": "8f04300a",
   "metadata": {},
   "outputs": [],
   "source": [
    "Insurance company do analysis when every per goes for surgery they do some predict where there is a chance of success\n",
    "or chance of failure.\n",
    "Insurance company has to pay lot of money in case of failure. so they do analysis.\n",
    "Observations: All numerical data, already data is encoded, no encoding is needed, already dummy columns are created\n",
    "During surgery, given shock, malnutrition, alcoholism, age, infection what are the chances or deapth being occured\n",
    "or what are the chances of deapth not being occured. What are the chances of success and what are the chances of \n",
    "failure"
   ]
  },
  {
   "cell_type": "code",
   "execution_count": 75,
   "id": "2981b194",
   "metadata": {},
   "outputs": [
    {
     "data": {
      "text/html": [
       "<div>\n",
       "<style scoped>\n",
       "    .dataframe tbody tr th:only-of-type {\n",
       "        vertical-align: middle;\n",
       "    }\n",
       "\n",
       "    .dataframe tbody tr th {\n",
       "        vertical-align: top;\n",
       "    }\n",
       "\n",
       "    .dataframe thead th {\n",
       "        text-align: right;\n",
       "    }\n",
       "</style>\n",
       "<table border=\"1\" class=\"dataframe\">\n",
       "  <thead>\n",
       "    <tr style=\"text-align: right;\">\n",
       "      <th></th>\n",
       "      <th>Shock</th>\n",
       "      <th>Malnutrition</th>\n",
       "      <th>Alcoholism</th>\n",
       "      <th>Age</th>\n",
       "      <th>Infection</th>\n",
       "      <th>Death</th>\n",
       "    </tr>\n",
       "  </thead>\n",
       "  <tbody>\n",
       "    <tr>\n",
       "      <th>5</th>\n",
       "      <td>0</td>\n",
       "      <td>1</td>\n",
       "      <td>0</td>\n",
       "      <td>87</td>\n",
       "      <td>0</td>\n",
       "      <td>1</td>\n",
       "    </tr>\n",
       "    <tr>\n",
       "      <th>7</th>\n",
       "      <td>0</td>\n",
       "      <td>0</td>\n",
       "      <td>1</td>\n",
       "      <td>69</td>\n",
       "      <td>0</td>\n",
       "      <td>1</td>\n",
       "    </tr>\n",
       "    <tr>\n",
       "      <th>10</th>\n",
       "      <td>0</td>\n",
       "      <td>0</td>\n",
       "      <td>1</td>\n",
       "      <td>66</td>\n",
       "      <td>1</td>\n",
       "      <td>1</td>\n",
       "    </tr>\n",
       "    <tr>\n",
       "      <th>18</th>\n",
       "      <td>1</td>\n",
       "      <td>1</td>\n",
       "      <td>0</td>\n",
       "      <td>60</td>\n",
       "      <td>1</td>\n",
       "      <td>1</td>\n",
       "    </tr>\n",
       "    <tr>\n",
       "      <th>23</th>\n",
       "      <td>1</td>\n",
       "      <td>0</td>\n",
       "      <td>0</td>\n",
       "      <td>63</td>\n",
       "      <td>1</td>\n",
       "      <td>1</td>\n",
       "    </tr>\n",
       "    <tr>\n",
       "      <th>28</th>\n",
       "      <td>1</td>\n",
       "      <td>1</td>\n",
       "      <td>0</td>\n",
       "      <td>70</td>\n",
       "      <td>0</td>\n",
       "      <td>1</td>\n",
       "    </tr>\n",
       "    <tr>\n",
       "      <th>31</th>\n",
       "      <td>0</td>\n",
       "      <td>0</td>\n",
       "      <td>1</td>\n",
       "      <td>49</td>\n",
       "      <td>0</td>\n",
       "      <td>1</td>\n",
       "    </tr>\n",
       "    <tr>\n",
       "      <th>37</th>\n",
       "      <td>1</td>\n",
       "      <td>0</td>\n",
       "      <td>0</td>\n",
       "      <td>78</td>\n",
       "      <td>1</td>\n",
       "      <td>1</td>\n",
       "    </tr>\n",
       "    <tr>\n",
       "      <th>39</th>\n",
       "      <td>1</td>\n",
       "      <td>1</td>\n",
       "      <td>0</td>\n",
       "      <td>57</td>\n",
       "      <td>0</td>\n",
       "      <td>1</td>\n",
       "    </tr>\n",
       "    <tr>\n",
       "      <th>53</th>\n",
       "      <td>0</td>\n",
       "      <td>1</td>\n",
       "      <td>0</td>\n",
       "      <td>50</td>\n",
       "      <td>1</td>\n",
       "      <td>1</td>\n",
       "    </tr>\n",
       "    <tr>\n",
       "      <th>57</th>\n",
       "      <td>0</td>\n",
       "      <td>1</td>\n",
       "      <td>0</td>\n",
       "      <td>68</td>\n",
       "      <td>0</td>\n",
       "      <td>1</td>\n",
       "    </tr>\n",
       "    <tr>\n",
       "      <th>64</th>\n",
       "      <td>0</td>\n",
       "      <td>1</td>\n",
       "      <td>1</td>\n",
       "      <td>66</td>\n",
       "      <td>1</td>\n",
       "      <td>1</td>\n",
       "    </tr>\n",
       "    <tr>\n",
       "      <th>68</th>\n",
       "      <td>1</td>\n",
       "      <td>1</td>\n",
       "      <td>0</td>\n",
       "      <td>76</td>\n",
       "      <td>0</td>\n",
       "      <td>1</td>\n",
       "    </tr>\n",
       "    <tr>\n",
       "      <th>74</th>\n",
       "      <td>0</td>\n",
       "      <td>0</td>\n",
       "      <td>1</td>\n",
       "      <td>70</td>\n",
       "      <td>1</td>\n",
       "      <td>1</td>\n",
       "    </tr>\n",
       "    <tr>\n",
       "      <th>82</th>\n",
       "      <td>0</td>\n",
       "      <td>1</td>\n",
       "      <td>0</td>\n",
       "      <td>85</td>\n",
       "      <td>0</td>\n",
       "      <td>1</td>\n",
       "    </tr>\n",
       "    <tr>\n",
       "      <th>84</th>\n",
       "      <td>0</td>\n",
       "      <td>0</td>\n",
       "      <td>1</td>\n",
       "      <td>71</td>\n",
       "      <td>0</td>\n",
       "      <td>1</td>\n",
       "    </tr>\n",
       "    <tr>\n",
       "      <th>86</th>\n",
       "      <td>0</td>\n",
       "      <td>1</td>\n",
       "      <td>1</td>\n",
       "      <td>67</td>\n",
       "      <td>0</td>\n",
       "      <td>1</td>\n",
       "    </tr>\n",
       "    <tr>\n",
       "      <th>90</th>\n",
       "      <td>1</td>\n",
       "      <td>0</td>\n",
       "      <td>1</td>\n",
       "      <td>60</td>\n",
       "      <td>0</td>\n",
       "      <td>1</td>\n",
       "    </tr>\n",
       "    <tr>\n",
       "      <th>97</th>\n",
       "      <td>0</td>\n",
       "      <td>0</td>\n",
       "      <td>0</td>\n",
       "      <td>47</td>\n",
       "      <td>0</td>\n",
       "      <td>1</td>\n",
       "    </tr>\n",
       "    <tr>\n",
       "      <th>99</th>\n",
       "      <td>0</td>\n",
       "      <td>0</td>\n",
       "      <td>1</td>\n",
       "      <td>69</td>\n",
       "      <td>0</td>\n",
       "      <td>1</td>\n",
       "    </tr>\n",
       "    <tr>\n",
       "      <th>100</th>\n",
       "      <td>0</td>\n",
       "      <td>1</td>\n",
       "      <td>1</td>\n",
       "      <td>68</td>\n",
       "      <td>0</td>\n",
       "      <td>1</td>\n",
       "    </tr>\n",
       "  </tbody>\n",
       "</table>\n",
       "</div>"
      ],
      "text/plain": [
       "     Shock  Malnutrition  Alcoholism  Age  Infection  Death\n",
       "5        0             1           0   87          0      1\n",
       "7        0             0           1   69          0      1\n",
       "10       0             0           1   66          1      1\n",
       "18       1             1           0   60          1      1\n",
       "23       1             0           0   63          1      1\n",
       "28       1             1           0   70          0      1\n",
       "31       0             0           1   49          0      1\n",
       "37       1             0           0   78          1      1\n",
       "39       1             1           0   57          0      1\n",
       "53       0             1           0   50          1      1\n",
       "57       0             1           0   68          0      1\n",
       "64       0             1           1   66          1      1\n",
       "68       1             1           0   76          0      1\n",
       "74       0             0           1   70          1      1\n",
       "82       0             1           0   85          0      1\n",
       "84       0             0           1   71          0      1\n",
       "86       0             1           1   67          0      1\n",
       "90       1             0           1   60          0      1\n",
       "97       0             0           0   47          0      1\n",
       "99       0             0           1   69          0      1\n",
       "100      0             1           1   68          0      1"
      ]
     },
     "execution_count": 75,
     "metadata": {},
     "output_type": "execute_result"
    }
   ],
   "source": [
    "data[data['Death'] == 1]"
   ]
  },
  {
   "cell_type": "code",
   "execution_count": 90,
   "id": "be116e64",
   "metadata": {},
   "outputs": [],
   "source": [
    "X = data.iloc[:,:-1]\n",
    "y = data.iloc[:,-1]"
   ]
  },
  {
   "cell_type": "code",
   "execution_count": 94,
   "id": "e3cd014a",
   "metadata": {},
   "outputs": [
    {
     "data": {
      "text/plain": [
       "Death\n",
       "0    85\n",
       "1    21\n",
       "Name: count, dtype: int64"
      ]
     },
     "execution_count": 94,
     "metadata": {},
     "output_type": "execute_result"
    }
   ],
   "source": [
    "y.value_counts()"
   ]
  },
  {
   "cell_type": "code",
   "execution_count": 95,
   "id": "517da31d",
   "metadata": {},
   "outputs": [
    {
     "data": {
      "text/html": [
       "<style>#sk-container-id-3 {color: black;background-color: white;}#sk-container-id-3 pre{padding: 0;}#sk-container-id-3 div.sk-toggleable {background-color: white;}#sk-container-id-3 label.sk-toggleable__label {cursor: pointer;display: block;width: 100%;margin-bottom: 0;padding: 0.3em;box-sizing: border-box;text-align: center;}#sk-container-id-3 label.sk-toggleable__label-arrow:before {content: \"▸\";float: left;margin-right: 0.25em;color: #696969;}#sk-container-id-3 label.sk-toggleable__label-arrow:hover:before {color: black;}#sk-container-id-3 div.sk-estimator:hover label.sk-toggleable__label-arrow:before {color: black;}#sk-container-id-3 div.sk-toggleable__content {max-height: 0;max-width: 0;overflow: hidden;text-align: left;background-color: #f0f8ff;}#sk-container-id-3 div.sk-toggleable__content pre {margin: 0.2em;color: black;border-radius: 0.25em;background-color: #f0f8ff;}#sk-container-id-3 input.sk-toggleable__control:checked~div.sk-toggleable__content {max-height: 200px;max-width: 100%;overflow: auto;}#sk-container-id-3 input.sk-toggleable__control:checked~label.sk-toggleable__label-arrow:before {content: \"▾\";}#sk-container-id-3 div.sk-estimator input.sk-toggleable__control:checked~label.sk-toggleable__label {background-color: #d4ebff;}#sk-container-id-3 div.sk-label input.sk-toggleable__control:checked~label.sk-toggleable__label {background-color: #d4ebff;}#sk-container-id-3 input.sk-hidden--visually {border: 0;clip: rect(1px 1px 1px 1px);clip: rect(1px, 1px, 1px, 1px);height: 1px;margin: -1px;overflow: hidden;padding: 0;position: absolute;width: 1px;}#sk-container-id-3 div.sk-estimator {font-family: monospace;background-color: #f0f8ff;border: 1px dotted black;border-radius: 0.25em;box-sizing: border-box;margin-bottom: 0.5em;}#sk-container-id-3 div.sk-estimator:hover {background-color: #d4ebff;}#sk-container-id-3 div.sk-parallel-item::after {content: \"\";width: 100%;border-bottom: 1px solid gray;flex-grow: 1;}#sk-container-id-3 div.sk-label:hover label.sk-toggleable__label {background-color: #d4ebff;}#sk-container-id-3 div.sk-serial::before {content: \"\";position: absolute;border-left: 1px solid gray;box-sizing: border-box;top: 0;bottom: 0;left: 50%;z-index: 0;}#sk-container-id-3 div.sk-serial {display: flex;flex-direction: column;align-items: center;background-color: white;padding-right: 0.2em;padding-left: 0.2em;position: relative;}#sk-container-id-3 div.sk-item {position: relative;z-index: 1;}#sk-container-id-3 div.sk-parallel {display: flex;align-items: stretch;justify-content: center;background-color: white;position: relative;}#sk-container-id-3 div.sk-item::before, #sk-container-id-3 div.sk-parallel-item::before {content: \"\";position: absolute;border-left: 1px solid gray;box-sizing: border-box;top: 0;bottom: 0;left: 50%;z-index: -1;}#sk-container-id-3 div.sk-parallel-item {display: flex;flex-direction: column;z-index: 1;position: relative;background-color: white;}#sk-container-id-3 div.sk-parallel-item:first-child::after {align-self: flex-end;width: 50%;}#sk-container-id-3 div.sk-parallel-item:last-child::after {align-self: flex-start;width: 50%;}#sk-container-id-3 div.sk-parallel-item:only-child::after {width: 0;}#sk-container-id-3 div.sk-dashed-wrapped {border: 1px dashed gray;margin: 0 0.4em 0.5em 0.4em;box-sizing: border-box;padding-bottom: 0.4em;background-color: white;}#sk-container-id-3 div.sk-label label {font-family: monospace;font-weight: bold;display: inline-block;line-height: 1.2em;}#sk-container-id-3 div.sk-label-container {text-align: center;}#sk-container-id-3 div.sk-container {/* jupyter's `normalize.less` sets `[hidden] { display: none; }` but bootstrap.min.css set `[hidden] { display: none !important; }` so we also need the `!important` here to be able to override the default hidden behavior on the sphinx rendered scikit-learn.org. See: https://github.com/scikit-learn/scikit-learn/issues/21755 */display: inline-block !important;position: relative;}#sk-container-id-3 div.sk-text-repr-fallback {display: none;}</style><div id=\"sk-container-id-3\" class=\"sk-top-container\"><div class=\"sk-text-repr-fallback\"><pre>LogisticRegression()</pre><b>In a Jupyter environment, please rerun this cell to show the HTML representation or trust the notebook. <br />On GitHub, the HTML representation is unable to render, please try loading this page with nbviewer.org.</b></div><div class=\"sk-container\" hidden><div class=\"sk-item\"><div class=\"sk-estimator sk-toggleable\"><input class=\"sk-toggleable__control sk-hidden--visually\" id=\"sk-estimator-id-3\" type=\"checkbox\" checked><label for=\"sk-estimator-id-3\" class=\"sk-toggleable__label sk-toggleable__label-arrow\">LogisticRegression</label><div class=\"sk-toggleable__content\"><pre>LogisticRegression()</pre></div></div></div></div></div>"
      ],
      "text/plain": [
       "LogisticRegression()"
      ]
     },
     "execution_count": 95,
     "metadata": {},
     "output_type": "execute_result"
    }
   ],
   "source": [
    "model = LogisticRegression()\n",
    "model.fit(X,y)"
   ]
  },
  {
   "cell_type": "code",
   "execution_count": 96,
   "id": "6207aa4f",
   "metadata": {},
   "outputs": [
    {
     "data": {
      "text/plain": [
       "(array([1.69740167, 0.68381306, 1.65514545, 0.06035692, 1.25885412]),\n",
       " -6.189819786640072)"
      ]
     },
     "execution_count": 96,
     "metadata": {},
     "output_type": "execute_result"
    }
   ],
   "source": [
    "#in linear regression, if we have w's and b, we understand, for every increase in x, y increase by w and some bias\n",
    "#in logistic regression we can understand anything from w's and b, there are no insights with it, because we require \n",
    "#the result of sigmoid not w's and b\n",
    "#here we get array of lists, in linear regression it is list\n",
    "w,b = model.coef_[0],model.intercept_[0]\n",
    "w,b\n",
    "#what is the meaning of 1.69 * shock? we don't understand anything"
   ]
  },
  {
   "cell_type": "code",
   "execution_count": 97,
   "id": "b922279f",
   "metadata": {},
   "outputs": [
    {
     "data": {
      "text/plain": [
       "0     -2.809832\n",
       "1     -1.361266\n",
       "2     -2.508047\n",
       "3     -4.620540\n",
       "4     -2.990903\n",
       "         ...   \n",
       "101   -0.893372\n",
       "102   -4.680897\n",
       "103   -1.152900\n",
       "104   -1.154687\n",
       "105   -1.315870\n",
       "Length: 106, dtype: float64"
      ]
     },
     "execution_count": 97,
     "metadata": {},
     "output_type": "execute_result"
    }
   ],
   "source": [
    "y_predict = X.dot(w)+b\n",
    "y_predict"
   ]
  },
  {
   "cell_type": "code",
   "execution_count": 98,
   "id": "35648f5b",
   "metadata": {},
   "outputs": [
    {
     "data": {
      "text/plain": [
       "0      0.056795\n",
       "1      0.204035\n",
       "2      0.075296\n",
       "3      0.009751\n",
       "4      0.047839\n",
       "         ...   \n",
       "101    0.290414\n",
       "102    0.009186\n",
       "103    0.239960\n",
       "104    0.239634\n",
       "105    0.211506\n",
       "Length: 106, dtype: float64"
      ]
     },
     "execution_count": 98,
     "metadata": {},
     "output_type": "execute_result"
    }
   ],
   "source": [
    "y_predict = X.dot(w)+b\n",
    "y_predict = 1/(1+np.exp(-y_predict))\n",
    "y_predict\n",
    "#0.204035 ---> 20% probability that death will occure, 80% probability death will not occur\n",
    "#0.056795 ---> 0.5% death will occur"
   ]
  },
  {
   "cell_type": "code",
   "execution_count": null,
   "id": "b8b444f6",
   "metadata": {},
   "outputs": [],
   "source": [
    "Now we what to give insights to the doctor.\n",
    "not like patient has shock, infection, age is 89 so death will occur\n",
    "We want to give generalized insights\n"
   ]
  },
  {
   "cell_type": "code",
   "execution_count": null,
   "id": "46c38326",
   "metadata": {},
   "outputs": [],
   "source": [
    "We have all data categorical\n",
    "only age is continues"
   ]
  },
  {
   "cell_type": "code",
   "execution_count": 93,
   "id": "73343cfe",
   "metadata": {},
   "outputs": [
    {
     "data": {
      "text/plain": [
       "count    106.000000\n",
       "mean      51.283019\n",
       "std       20.787705\n",
       "min       17.000000\n",
       "25%       33.000000\n",
       "50%       52.500000\n",
       "75%       68.750000\n",
       "max       94.000000\n",
       "Name: Age, dtype: float64"
      ]
     },
     "execution_count": 93,
     "metadata": {},
     "output_type": "execute_result"
    }
   ],
   "source": [
    "data.Age.describe()"
   ]
  },
  {
   "cell_type": "code",
   "execution_count": 167,
   "id": "7db086e5",
   "metadata": {},
   "outputs": [
    {
     "data": {
      "text/plain": [
       "[0.5026870667374586,\n",
       " 0.517768837576732,\n",
       " 0.5328183033038629,\n",
       " 0.5478082845963423,\n",
       " 0.5627120318894284,\n",
       " 0.5775034140997204,\n",
       " 0.5921570979880559,\n",
       " 0.6066487156114875,\n",
       " 0.6209550176157229,\n",
       " 0.635054010469909]"
      ]
     },
     "execution_count": 167,
     "metadata": {},
     "output_type": "execute_result"
    }
   ],
   "source": [
    "p1 = []\n",
    "for i in range(15,96):\n",
    "    y_predict = 1*w[0]+1*w[1]+1*w[2]+i*w[3]+1*w[4]+b #probability of death if the patient is in shock,patient has malnutrient, patient is alcoholic and patient has infection\n",
    "    p1.append(1/(1+np.exp(-y_predict)))\n",
    "p1[:10]"
   ]
  },
  {
   "cell_type": "code",
   "execution_count": 168,
   "id": "9d2525cb",
   "metadata": {},
   "outputs": [],
   "source": [
    "p2 = []\n",
    "for i in range(15,96):\n",
    "    y_predict = 1*w[0]+0*w[1]+0*w[2]+i*w[3]+1*w[4]+b #probability of death if the patient is in shock,patient has malnutrient, patient is alcoholic and patient has infection\n",
    "    p2.append(1/(1+np.exp(-y_predict)))"
   ]
  },
  {
   "cell_type": "code",
   "execution_count": 169,
   "id": "20d54580",
   "metadata": {},
   "outputs": [],
   "source": [
    "p3 = []\n",
    "for i in range(15,96):\n",
    "    y_predict = 1*w[0]+0*w[1]+1*w[2]+i*w[3]+0*w[4]+b #probability of death if the patient is in shock,patient has malnutrient, patient is alcoholic and patient has infection\n",
    "    p3.append(1/(1+np.exp(-y_predict)))\n",
    "    #if p3 line comes above the blue line then we understand that alcoholism has more effect on failure"
   ]
  },
  {
   "cell_type": "code",
   "execution_count": 170,
   "id": "3af1992a",
   "metadata": {},
   "outputs": [],
   "source": [
    "p4 = []\n",
    "for i in range(15,96):\n",
    "    y_predict = 0*w[0]+0*w[1]+0*w[2]+i*w[3]+0*w[4]+b #probability of death if the patient is in shock,patient has malnutrient, patient is alcoholic and patient has infection\n",
    "    p4.append(1/(1+np.exp(-y_predict)))\n",
    "    #no add habits, patient is health, probability of success is high"
   ]
  },
  {
   "cell_type": "code",
   "execution_count": 171,
   "id": "86b83293",
   "metadata": {},
   "outputs": [
    {
     "data": {
      "image/png": "[encoded data removed]",
      "text/plain": [
       "<Figure size 1200x600 with 1 Axes>"
      ]
     },
     "metadata": {},
     "output_type": "display_data"
    }
   ],
   "source": [
    "plt.figure(figsize=[12,6])\n",
    "plt.plot(range(15,96),p1,label='S=Y;M=Y;A=Y;I=Y',c='red')\n",
    "plt.plot(range(15,96),p2,label='S=Y;M=N;A=N;I=Y',c='blue')\n",
    "plt.plot(range(15,96),p3,label='S=Y;M=N;A=Y;I=Y',c='orange')\n",
    "plt.plot(range(15,96),p4,label='S=N;M=N;A=N;I=N',c='green')\n",
    "plt.plot([0,96],[0.5,0.5])\n",
    "plt.xlabel('Patient Age')\n",
    "plt.ylabel('Probability of Failure')\n",
    "plt.legend()\n",
    "plt.show()"
   ]
  },
  {
   "cell_type": "code",
   "execution_count": null,
   "id": "8da6da5b",
   "metadata": {},
   "outputs": [],
   "source": [
    "As patient age is increasing, probability of failure is increasing"
   ]
  },
  {
   "cell_type": "code",
   "execution_count": 174,
   "id": "9e5efd81",
   "metadata": {},
   "outputs": [],
   "source": [
    "p1 = []\n",
    "for i in range(15,96):\n",
    "    y_predict = 1*w[0]+1*w[1]+1*w[2]+i*w[3]+1*w[4]+b #probability of death if the patient is in shock,patient has malnutrient, patient is alcoholic and patient has infection\n",
    "    p1.append(1-1/(1+np.exp(-y_predict)))"
   ]
  },
  {
   "cell_type": "code",
   "execution_count": 175,
   "id": "e8e80089",
   "metadata": {},
   "outputs": [],
   "source": [
    "p2 = []\n",
    "for i in range(15,96):\n",
    "    y_predict = 1*w[0]+0*w[1]+0*w[2]+i*w[3]+1*w[4]+b #probability of death if the patient is in shock,patient has malnutrient, patient is alcoholic and patient has infection\n",
    "    p2.append(1-1/(1+np.exp(-y_predict)))"
   ]
  },
  {
   "cell_type": "code",
   "execution_count": 176,
   "id": "572b488e",
   "metadata": {},
   "outputs": [],
   "source": [
    "p3 = []\n",
    "for i in range(15,96):\n",
    "    y_predict = 1*w[0]+0*w[1]+1*w[2]+i*w[3]+0*w[4]+b #probability of death if the patient is in shock,patient has malnutrient, patient is alcoholic and patient has infection\n",
    "    p3.append(1-1/(1+np.exp(-y_predict)))\n",
    "    #if p3 line comes above the blue line then we understand that alcoholism has more effect on failure"
   ]
  },
  {
   "cell_type": "code",
   "execution_count": 177,
   "id": "de5fb606",
   "metadata": {},
   "outputs": [],
   "source": [
    "p4 = []\n",
    "for i in range(15,96):\n",
    "    y_predict = 0*w[0]+0*w[1]+0*w[2]+i*w[3]+0*w[4]+b #probability of death if the patient is in shock,patient has malnutrient, patient is alcoholic and patient has infection\n",
    "    p4.append(1-1/(1+np.exp(-y_predict)))\n",
    "    #no add habits, patient is health, probability of success is high"
   ]
  },
  {
   "cell_type": "code",
   "execution_count": 178,
   "id": "6b6f0ce9",
   "metadata": {},
   "outputs": [],
   "source": [
    "p5 = []\n",
    "for i in range(15,96):\n",
    "    y_predict = 0*w[0]+0*w[1]+1*w[2]+i*w[3]+1*w[4]+b #probability of death if the patient is in shock,patient has malnutrient, patient is alcoholic and patient has infection\n",
    "    p5.append(1-1/(1+np.exp(-y_predict)))\n",
    "    #no add habits, patient is health, probability of success is high"
   ]
  },
  {
   "cell_type": "code",
   "execution_count": 179,
   "id": "534fda62",
   "metadata": {},
   "outputs": [
    {
     "data": {
      "image/png": "[encoded data removed]",
      "text/plain": [
       "<Figure size 1200x600 with 1 Axes>"
      ]
     },
     "metadata": {},
     "output_type": "display_data"
    }
   ],
   "source": [
    "plt.figure(figsize=[12,6])\n",
    "plt.plot(range(15,96),p1,label='S=Y;M=Y;A=Y;I=Y',c='red')\n",
    "plt.plot(range(15,96),p2,label='S=Y;M=N;A=N;I=Y',c='blue')\n",
    "plt.plot(range(15,96),p3,label='S=Y;M=N;A=Y;I=Y',c='orange')\n",
    "plt.plot(range(15,96),p4,label='S=N;M=N;A=N;I=N',c='green')\n",
    "plt.plot(range(15,96),p5,label='S=N;M=N;A=Y;I=Y',c='violet')\n",
    "plt.plot([0,96],[0.5,0.5])\n",
    "plt.xlabel('Patient Age')\n",
    "plt.ylabel('Probability of success')\n",
    "plt.legend()\n",
    "plt.show()"
   ]
  },
  {
   "cell_type": "code",
   "execution_count": null,
   "id": "8aab53e8",
   "metadata": {},
   "outputs": [],
   "source": [
    "AS age is increasing probability of success is decreasing"
   ]
  },
  {
   "cell_type": "code",
   "execution_count": 186,
   "id": "ca484c2a",
   "metadata": {},
   "outputs": [
    {
     "data": {
      "text/plain": [
       "array([0, 0, 0, 0, 0, 0, 0, 0, 0, 0, 1, 0, 0, 0, 0, 0, 0, 0, 1, 0, 0, 0,\n",
       "       0, 1, 0, 0, 0, 0, 1, 0, 0, 0, 0, 0, 0, 0, 0, 1, 0, 0, 0, 0, 0, 0,\n",
       "       0, 0, 0, 0, 0, 0, 0, 0, 0, 0, 0, 0, 0, 0, 0, 0, 0, 0, 0, 0, 1, 0,\n",
       "       0, 0, 1, 0, 0, 1, 0, 0, 1, 0, 0, 0, 0, 0, 0, 0, 0, 1, 0, 0, 1, 0,\n",
       "       0, 0, 1, 0, 0, 0, 0, 0, 0, 0, 0, 0, 1, 0, 0, 0, 0, 0])"
      ]
     },
     "execution_count": 186,
     "metadata": {},
     "output_type": "execute_result"
    }
   ],
   "source": [
    "y_predict = model.predict(X) #model will predict \n",
    "y_predict"
   ]
  },
  {
   "cell_type": "code",
   "execution_count": 182,
   "id": "e28be4f9",
   "metadata": {},
   "outputs": [
    {
     "data": {
      "text/plain": [
       "array([[0.94320482, 0.05679518],\n",
       "       [0.79596536, 0.20403464],\n",
       "       [0.92470405, 0.07529595],\n",
       "       [0.99024855, 0.00975145],\n",
       "       [0.95216145, 0.04783855],\n",
       "       [0.56339556, 0.43660444],\n",
       "       [0.99277046, 0.00722954],\n",
       "       [0.59147024, 0.40852976],\n",
       "       [0.9398837 , 0.0601163 ],\n",
       "       [0.71481395, 0.28518605]])"
      ]
     },
     "execution_count": 182,
     "metadata": {},
     "output_type": "execute_result"
    }
   ],
   "source": [
    "model.predict_proba(X)[:10] #gives lables and probabilities"
   ]
  },
  {
   "cell_type": "code",
   "execution_count": 205,
   "id": "320b9f72",
   "metadata": {},
   "outputs": [],
   "source": [
    "X_train,X_test,y_train,y_test = train_test_split(X,y,random_state=10,test_size=27)"
   ]
  },
  {
   "cell_type": "code",
   "execution_count": 206,
   "id": "cbfcb449",
   "metadata": {},
   "outputs": [
    {
     "data": {
      "text/plain": [
       "66    0\n",
       "35    0\n",
       "84    1\n",
       "48    0\n",
       "47    0\n",
       "42    0\n",
       "59    0\n",
       "85    0\n",
       "3     0\n",
       "41    0\n",
       "2     0\n",
       "26    0\n",
       "43    0\n",
       "14    0\n",
       "61    0\n",
       "52    0\n",
       "19    0\n",
       "1     0\n",
       "98    0\n",
       "70    0\n",
       "86    1\n",
       "97    1\n",
       "80    0\n",
       "38    0\n",
       "53    1\n",
       "75    0\n",
       "95    0\n",
       "Name: Death, dtype: int64"
      ]
     },
     "execution_count": 206,
     "metadata": {},
     "output_type": "execute_result"
    }
   ],
   "source": [
    "y_test"
   ]
  },
  {
   "cell_type": "code",
   "execution_count": 207,
   "id": "59bc4ab1",
   "metadata": {},
   "outputs": [
    {
     "data": {
      "text/plain": [
       "0.8888888888888888"
      ]
     },
     "execution_count": 207,
     "metadata": {},
     "output_type": "execute_result"
    }
   ],
   "source": [
    "model.fit(X_train,y_train)\n",
    "model.score(X_test,y_test)"
   ]
  },
  {
   "cell_type": "code",
   "execution_count": 208,
   "id": "7246725f",
   "metadata": {},
   "outputs": [
    {
     "data": {
      "text/plain": [
       "array([0, 0, 1, 0, 0, 0, 0, 0, 0, 1, 0, 0, 0, 0, 0, 0, 0, 0, 0, 0, 1, 0,\n",
       "       0, 0, 0, 0, 0])"
      ]
     },
     "execution_count": 208,
     "metadata": {},
     "output_type": "execute_result"
    }
   ],
   "source": [
    "y_predict = model.predict(X_test)\n",
    "y_predict"
   ]
  },
  {
   "cell_type": "code",
   "execution_count": 209,
   "id": "56f900b7",
   "metadata": {},
   "outputs": [
    {
     "data": {
      "text/plain": [
       "<sklearn.metrics._plot.confusion_matrix.ConfusionMatrixDisplay at 0x291e1ea00>"
      ]
     },
     "execution_count": 209,
     "metadata": {},
     "output_type": "execute_result"
    },
    {
     "data": {
      "image/png": "[encoded data removed]",
      "text/plain": [
       "<Figure size 640x480 with 2 Axes>"
      ]
     },
     "metadata": {},
     "output_type": "display_data"
    }
   ],
   "source": [
    "ConfusionMatrixDisplay.from_estimator(model,X_test,y_test)"
   ]
  },
  {
   "cell_type": "code",
   "execution_count": 210,
   "id": "94e0cbeb",
   "metadata": {},
   "outputs": [
    {
     "data": {
      "text/plain": [
       "<sklearn.metrics._plot.confusion_matrix.ConfusionMatrixDisplay at 0x291eda760>"
      ]
     },
     "execution_count": 210,
     "metadata": {},
     "output_type": "execute_result"
    },
    {
     "data": {
      "image/png": "[encoded data removed]",
      "text/plain": [
       "<Figure size 640x480 with 2 Axes>"
      ]
     },
     "metadata": {},
     "output_type": "display_data"
    }
   ],
   "source": [
    "ConfusionMatrixDisplay.from_predictions(y_test,y_predict)"
   ]
  },
  {
   "cell_type": "code",
   "execution_count": null,
   "id": "cc31801f",
   "metadata": {},
   "outputs": [],
   "source": []
  }
 ],
 "metadata": {
  "kernelspec": {
   "display_name": "Python 3 (ipykernel)",
   "language": "python",
   "name": "python3"
  },
  "language_info": {
   "codemirror_mode": {
    "name": "ipython",
    "version": 3
   },
   "file_extension": ".py",
   "mimetype": "text/x-python",
   "name": "python",
   "nbconvert_exporter": "python",
   "pygments_lexer": "ipython3",
   "version": "3.9.13"
  }
 },
 "nbformat": 4,
 "nbformat_minor": 5
}
