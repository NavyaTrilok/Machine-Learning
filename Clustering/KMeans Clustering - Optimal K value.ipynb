{
 "cells": [
  {
   "cell_type": "code",
   "execution_count": 7,
   "id": "a0b02277",
   "metadata": {},
   "outputs": [],
   "source": [
    "import pandas as pd\n",
    "import numpy as np\n",
    "from sklearn.datasets import make_blobs\n",
    "import matplotlib.pyplot as plt\n",
    "from sklearn.cluster import KMeans\n",
    "from kneed import KneeLocator"
   ]
  },
  {
   "cell_type": "code",
   "execution_count": 8,
   "id": "ece77c80",
   "metadata": {},
   "outputs": [
    {
     "data": {
      "text/plain": [
       "(array([[ -8.76847514,  -1.48448815],\n",
       "        [-10.99358468,  -9.56741734],\n",
       "        [ -9.87956672, -10.39679817],\n",
       "        [-10.74393777, -10.02622815],\n",
       "        [ -8.08689785,  -0.24874169],\n",
       "        [-10.18198648,  -9.39172461],\n",
       "        [ -7.82713885,  -8.38420815],\n",
       "        [ -7.3270108 ,  -1.78578474],\n",
       "        [ -7.66526992,  -1.56684737],\n",
       "        [ -9.28066707,  -2.41242979],\n",
       "        [ -9.90753297,  -2.15038615],\n",
       "        [ -7.16046831,  -2.11010442],\n",
       "        [ -8.75388851,  -9.29539093],\n",
       "        [ -8.98562178,  -9.28669413],\n",
       "        [ -8.75970743,  -2.39479027],\n",
       "        [ -8.58949001,  -1.96393844],\n",
       "        [ -9.56534324,  -8.64695634],\n",
       "        [ -9.18942169,  -2.01517123],\n",
       "        [-11.18387481,  -8.02168449],\n",
       "        [ -7.61842269,  -2.57999653],\n",
       "        [ -7.46099988,  -2.62231419],\n",
       "        [ -9.06159122,  -8.04790686],\n",
       "        [ -7.52324346,  -3.85891289],\n",
       "        [ -8.7813103 ,  -7.32254393],\n",
       "        [ -9.57817825,  -8.29062163],\n",
       "        [ -8.03600592,  -0.24564142],\n",
       "        [ -7.32131536,  -2.63433676],\n",
       "        [ -8.23642717,  -1.71422285],\n",
       "        [ -9.62884713,  -8.18967118],\n",
       "        [-10.00759958,  -8.87429341],\n",
       "        [ -8.07377868,  -2.0791487 ],\n",
       "        [ -9.12455491, -10.49009652],\n",
       "        [-10.87711641,  -8.29796647],\n",
       "        [ -6.79638913,  -2.62700707],\n",
       "        [ -9.24720534,  -1.79339874],\n",
       "        [ -9.17637339,  -3.24722298],\n",
       "        [ -9.03832279,  -2.71713064],\n",
       "        [ -7.64816456,  -1.51353391],\n",
       "        [ -8.91955376,  -1.8096261 ],\n",
       "        [ -7.52094664,  -3.22471829],\n",
       "        [-10.31089381,  -7.40205673],\n",
       "        [ -9.4617892 , -10.65239695],\n",
       "        [ -7.85881272,  -2.7449419 ],\n",
       "        [ -7.38554387,   0.23945089],\n",
       "        [ -8.38933775,  -2.0578468 ],\n",
       "        [-10.01604868,  -7.18466181],\n",
       "        [ -7.75095401,  -2.87115454],\n",
       "        [ -9.51755184,  -8.84422647],\n",
       "        [ -9.10145741,  -8.13990114],\n",
       "        [-10.04915197,  -3.10723215],\n",
       "        [ -9.22452113,  -2.89405343],\n",
       "        [ -9.07394176,  -8.48711095],\n",
       "        [ -8.74059638,  -2.72830744],\n",
       "        [ -7.53591838,  -2.62792776],\n",
       "        [ -9.43914767,  -9.90641832],\n",
       "        [ -9.33725651,  -7.32736435],\n",
       "        [-11.2204474 ,  -7.70343642],\n",
       "        [ -9.4576229 ,  -9.93486501],\n",
       "        [ -7.9456859 ,  -8.88230468],\n",
       "        [ -9.46734785,  -8.30756751],\n",
       "        [ -8.63844033,  -8.90385699],\n",
       "        [-10.44786008,  -8.52978127],\n",
       "        [ -8.97511741,  -3.27356112],\n",
       "        [ -8.29570875,   0.48928496],\n",
       "        [-10.48004724,  -8.76564889],\n",
       "        [ -8.92043536,  -2.66151056],\n",
       "        [ -9.45341331,  -7.84656478],\n",
       "        [-11.73395583, -10.07941745],\n",
       "        [ -8.96688184,  -1.84765491],\n",
       "        [ -8.45916603,  -1.33568436],\n",
       "        [-10.07535789,  -8.34949278],\n",
       "        [ -8.74808105,  -9.03256644],\n",
       "        [ -7.66199447,  -1.99085363],\n",
       "        [ -7.9319779 ,  -3.2077946 ],\n",
       "        [ -8.84360384,  -8.92319112],\n",
       "        [-11.3076996 ,  -8.02377293],\n",
       "        [ -8.9054335 ,  -3.80555213],\n",
       "        [ -9.7883888 ,  -3.4329224 ],\n",
       "        [ -9.03287678,  -2.31750683],\n",
       "        [ -8.49315006,  -3.20392753],\n",
       "        [-10.83856291, -10.89164509],\n",
       "        [ -9.32781408,  -8.45957727],\n",
       "        [-10.56866661,  -8.55547066],\n",
       "        [-10.10360047,  -9.83765083],\n",
       "        [-11.59026507,  -9.36117894],\n",
       "        [ -9.25597917,  -2.57310843],\n",
       "        [ -8.09475189,  -8.65669578],\n",
       "        [ -9.87904217,  -9.14821149],\n",
       "        [ -8.81009679,  -0.24850339],\n",
       "        [ -9.33433885,  -8.2423419 ],\n",
       "        [-10.29205643,  -8.25628748],\n",
       "        [ -6.04592574,  -0.28897753],\n",
       "        [ -7.650343  ,  -3.41578497],\n",
       "        [ -9.66709524, -10.05908724],\n",
       "        [ -8.14322748,  -1.31466084],\n",
       "        [ -9.3543097 ,  -2.20760914],\n",
       "        [ -8.31938847,  -4.81735   ],\n",
       "        [ -6.95454721,  -2.25567308],\n",
       "        [ -7.95176901,  -1.32225204],\n",
       "        [ -8.11971181,  -8.79720487],\n",
       "        [ -8.43076077,  -3.50591959],\n",
       "        [ -9.20415896,  -8.18687675],\n",
       "        [ -8.61704679,  -9.91437384],\n",
       "        [-10.26190095,  -9.018247  ],\n",
       "        [ -9.49869048,  -2.3784278 ],\n",
       "        [ -7.72848697, -11.18237389],\n",
       "        [ -9.88344279,  -1.26160761],\n",
       "        [ -8.25654335,  -2.23998768],\n",
       "        [-10.20708839,  -8.35485899],\n",
       "        [ -8.68594068,  -9.03822402],\n",
       "        [ -8.91713391,  -2.44140968],\n",
       "        [ -7.39474545,  -2.4257745 ],\n",
       "        [ -8.58057799,  -2.64402585],\n",
       "        [ -8.35065307,  -8.61257667],\n",
       "        [ -8.59991796,  -2.83511709],\n",
       "        [ -8.88775764,  -8.78945781],\n",
       "        [-10.3862352 ,  -9.39389333],\n",
       "        [ -9.55416289,  -3.26949587],\n",
       "        [ -8.66894181,  -3.01674976],\n",
       "        [ -9.38870906,  -8.16457507],\n",
       "        [ -9.86822392,  -8.05619989],\n",
       "        [ -9.02290686,  -9.44238932],\n",
       "        [ -9.86348813,  -8.40840852],\n",
       "        [-10.37377224,  -1.22563515],\n",
       "        [ -8.79559853,  -2.55876467],\n",
       "        [ -8.26819236,  -9.2775201 ],\n",
       "        [ -8.27846884,  -2.46734786],\n",
       "        [ -9.51634469,  -9.76188265],\n",
       "        [ -7.64666627,  -1.564277  ],\n",
       "        [-10.33717516,  -8.88337524],\n",
       "        [ -9.90144039,  -2.62814329],\n",
       "        [ -8.70948091,  -3.51259887],\n",
       "        [ -7.24627004,  -2.17272434],\n",
       "        [ -9.62323412,  -3.01261548],\n",
       "        [ -6.75316232,  -3.36288168],\n",
       "        [ -7.78904231,  -1.90219447],\n",
       "        [ -9.67661622,  -8.33509197],\n",
       "        [ -7.39641942,  -1.83026052],\n",
       "        [ -9.8080075 ,  -9.12265684],\n",
       "        [ -8.49066394,  -2.84297097],\n",
       "        [ -7.49249081,  -7.87771645],\n",
       "        [-10.71208543,  -8.64324474],\n",
       "        [-10.74461209,  -8.75365421],\n",
       "        [ -7.99482592,  -3.47639738],\n",
       "        [ -8.62517115,  -0.97658399],\n",
       "        [ -9.30183342,  -2.25074559],\n",
       "        [ -7.27525145,  -2.98333814],\n",
       "        [-10.45801138,  -8.789277  ],\n",
       "        [ -8.66135264,  -9.9738607 ],\n",
       "        [-10.16964871, -10.62260735],\n",
       "        [ -7.21165708,  -2.91719372],\n",
       "        [ -8.93909948, -10.21571978],\n",
       "        [ -8.03074021,  -8.45631363],\n",
       "        [-10.79369683,  -9.84701904],\n",
       "        [ -9.72030701,  -7.91446811],\n",
       "        [ -8.47935121,  -1.75354942],\n",
       "        [-10.43495257, -10.23830401],\n",
       "        [ -7.48404961,  -2.13831194],\n",
       "        [ -8.6870181 ,  -9.91638163],\n",
       "        [ -9.10112052,  -3.37710759],\n",
       "        [ -9.05610558,  -8.46709339],\n",
       "        [ -9.82178594,  -8.05836866],\n",
       "        [ -8.29481217,  -1.76370307],\n",
       "        [-10.17731355,  -9.41501458],\n",
       "        [ -8.3908693 ,  -3.28116184],\n",
       "        [ -7.48632357,  -2.81825759],\n",
       "        [ -9.74113123,  -7.91439296],\n",
       "        [ -9.22813636,  -1.56503965],\n",
       "        [-10.72084521,  -8.58309339],\n",
       "        [ -9.66106454,  -9.69057656],\n",
       "        [ -9.18529748,  -7.98712793],\n",
       "        [ -9.57106693,  -7.84858205],\n",
       "        [-10.36018324,  -7.98233554],\n",
       "        [ -8.54461111,  -9.19081515],\n",
       "        [ -9.13656832,  -3.3886266 ],\n",
       "        [-10.72002673,  -2.1105075 ],\n",
       "        [ -9.86109087,  -8.40254221],\n",
       "        [ -9.52925384,  -3.58479935],\n",
       "        [-11.09003778,  -8.65095245],\n",
       "        [ -9.63176697,  -2.59265474],\n",
       "        [-10.61366268,  -0.33718217],\n",
       "        [ -8.01184045,  -1.11619723],\n",
       "        [ -8.18137445,  -2.10993044],\n",
       "        [ -9.67124278,  -9.73686353],\n",
       "        [ -9.98328169,  -7.98743904],\n",
       "        [-11.73899696,  -7.76009304],\n",
       "        [ -9.72018076,  -8.17050249],\n",
       "        [-10.25964529, -10.03580329],\n",
       "        [ -7.87778677,  -2.21856635],\n",
       "        [-10.45180273,  -7.63434649],\n",
       "        [ -9.00611756,  -3.24674405],\n",
       "        [-11.19407517,  -7.49330923],\n",
       "        [ -8.40285169,  -9.5326257 ],\n",
       "        [ -8.74478731,  -3.33267162],\n",
       "        [ -8.33930829,  -1.04243816],\n",
       "        [ -8.03109019,  -2.02944514],\n",
       "        [ -7.09566912,  -1.40176536],\n",
       "        [ -8.23246983,  -8.48594688],\n",
       "        [ -9.4376127 ,  -4.09512068],\n",
       "        [-10.51655079,  -8.94930992]]),\n",
       " array([1, 0, 0, 0, 1, 0, 0, 1, 1, 1, 1, 1, 0, 0, 1, 1, 0, 1, 0, 1, 1, 0,\n",
       "        1, 0, 0, 1, 1, 1, 0, 0, 1, 0, 0, 1, 1, 1, 1, 1, 1, 1, 0, 0, 1, 1,\n",
       "        1, 0, 1, 0, 0, 1, 1, 0, 1, 1, 0, 0, 0, 0, 0, 0, 0, 0, 1, 1, 0, 1,\n",
       "        0, 0, 1, 1, 0, 0, 1, 1, 0, 0, 1, 1, 1, 1, 0, 0, 0, 0, 0, 1, 0, 0,\n",
       "        1, 0, 0, 1, 1, 0, 1, 1, 1, 1, 1, 0, 1, 0, 0, 0, 1, 0, 1, 1, 0, 0,\n",
       "        1, 1, 1, 0, 1, 0, 0, 1, 1, 0, 0, 0, 0, 1, 1, 0, 1, 0, 1, 0, 1, 1,\n",
       "        1, 1, 1, 1, 0, 1, 0, 1, 0, 0, 0, 1, 1, 1, 1, 0, 0, 0, 1, 0, 0, 0,\n",
       "        0, 1, 0, 1, 0, 1, 0, 0, 1, 0, 1, 1, 0, 1, 0, 0, 0, 0, 0, 0, 1, 1,\n",
       "        0, 1, 0, 1, 1, 1, 1, 0, 0, 0, 0, 0, 1, 0, 1, 0, 0, 1, 1, 1, 1, 0,\n",
       "        1, 0]))"
      ]
     },
     "execution_count": 8,
     "metadata": {},
     "output_type": "execute_result"
    }
   ],
   "source": [
    "data = make_blobs(n_samples=200,n_features=2,centers=2)\n",
    "data"
   ]
  },
  {
   "cell_type": "markdown",
   "id": "8007671d",
   "metadata": {},
   "source": [
    "data = make_blobs(n_samples=200,n_features=2,centers=2)[0]\n",
    "data"
   ]
  },
  {
   "cell_type": "code",
   "execution_count": 10,
   "id": "5abd346b",
   "metadata": {},
   "outputs": [
    {
     "data": {
      "text/plain": [
       "array([[-3.42189356,  4.54875588],\n",
       "       [ 3.92006813,  7.886172  ],\n",
       "       [ 4.92719377,  7.41268409],\n",
       "       [ 3.83144426,  8.1206407 ],\n",
       "       [-1.26143393,  3.86431823],\n",
       "       [ 3.32914207,  8.23351571],\n",
       "       [ 3.45306344,  7.5830653 ],\n",
       "       [ 2.83359995,  7.67001753],\n",
       "       [ 1.63025985,  5.74604547],\n",
       "       [ 1.76691553,  6.8540394 ],\n",
       "       [-1.1668545 ,  5.29642177],\n",
       "       [-0.92255819,  3.19107397],\n",
       "       [ 4.90601688,  9.23347677],\n",
       "       [-2.69592603,  2.78968593],\n",
       "       [-1.96492276,  5.3203182 ],\n",
       "       [ 3.3037071 ,  7.77715219],\n",
       "       [ 4.0426021 ,  6.73800463],\n",
       "       [ 5.31151181,  5.84559708],\n",
       "       [ 2.76676438,  5.06425009],\n",
       "       [ 2.71454347,  7.31369592],\n",
       "       [ 4.22879533,  6.46993927],\n",
       "       [ 4.39262281,  6.32172521],\n",
       "       [ 3.93019152,  7.96282239],\n",
       "       [-2.95381098,  1.43544129],\n",
       "       [-0.93446184,  4.32122802],\n",
       "       [ 4.81603391,  7.30104185],\n",
       "       [ 0.44002771,  2.94245379],\n",
       "       [ 4.02480799,  6.9061345 ],\n",
       "       [-3.14131934,  4.75779398],\n",
       "       [ 5.62669185,  9.21575413],\n",
       "       [-0.63703227,  4.89278565],\n",
       "       [-1.36929182,  2.92683879],\n",
       "       [ 5.9021467 ,  6.22295031],\n",
       "       [ 3.83817167,  7.58671851],\n",
       "       [-1.64223262,  3.40259014],\n",
       "       [ 4.31103424,  8.77618651],\n",
       "       [ 6.80160757,  8.13998772],\n",
       "       [ 3.4467327 ,  8.07870464],\n",
       "       [ 3.73316038,  7.92153336],\n",
       "       [ 4.72197181,  7.30185311],\n",
       "       [ 2.10717298,  7.45365033],\n",
       "       [-0.56133174,  3.56567982],\n",
       "       [-2.68913441,  5.19391698],\n",
       "       [ 4.38582082,  6.42994533],\n",
       "       [ 3.24983305,  7.47319749],\n",
       "       [ 3.97344006,  7.52981368],\n",
       "       [ 2.46530894,  8.35839989],\n",
       "       [-1.4051808 ,  1.98874565],\n",
       "       [ 0.06805735,  2.45594266],\n",
       "       [ 3.75632642,  6.45022359],\n",
       "       [-1.73559999,  3.65062046],\n",
       "       [-1.73180088,  2.80504261],\n",
       "       [ 0.05773807,  2.26463326],\n",
       "       [-2.26934802,  2.54468747],\n",
       "       [ 3.63330964,  7.48880842],\n",
       "       [ 4.6724663 ,  7.72377785],\n",
       "       [-2.03692345,  2.63478522],\n",
       "       [ 0.152156  ,  3.43409703],\n",
       "       [ 4.47138808,  5.65229892],\n",
       "       [-3.39043263,  3.89862984],\n",
       "       [-1.37822614,  4.67162566],\n",
       "       [ 4.22033784,  6.70976703],\n",
       "       [-1.40806416,  1.94460606],\n",
       "       [-1.46508209,  3.19549084],\n",
       "       [-3.93624812,  4.37248895],\n",
       "       [-2.1685938 ,  2.23163877],\n",
       "       [ 6.22698942,  7.92259306],\n",
       "       [-1.83136613,  2.99030221],\n",
       "       [-1.84328313,  3.21421875],\n",
       "       [ 2.95970137,  7.54321235],\n",
       "       [-1.33817543,  1.78397394],\n",
       "       [-1.57569873,  2.89717072],\n",
       "       [-0.90551668,  3.74649797],\n",
       "       [ 5.2214029 ,  7.19719666],\n",
       "       [-1.39319952,  3.85621471],\n",
       "       [ 2.65484248,  7.24429451],\n",
       "       [-2.02877156,  3.82992529],\n",
       "       [ 2.50021064,  6.07759265],\n",
       "       [ 4.4786676 ,  8.68853044],\n",
       "       [-0.86566464,  4.30502583],\n",
       "       [-0.99982054,  4.13890989],\n",
       "       [ 2.92173359,  5.477049  ],\n",
       "       [-2.5801217 ,  2.19485874],\n",
       "       [-2.01709273,  3.40978106],\n",
       "       [ 5.05744883,  7.02520319],\n",
       "       [-2.14998536,  3.30719486],\n",
       "       [-2.65349013,  2.17325492],\n",
       "       [ 5.42967206,  9.35644968],\n",
       "       [-2.60095196,  4.54219278],\n",
       "       [-1.09229661,  2.34772514],\n",
       "       [ 5.82629831,  7.05560569],\n",
       "       [-2.31348682,  3.47578996],\n",
       "       [ 4.22641397,  9.40998353],\n",
       "       [ 3.83757826,  7.77571656],\n",
       "       [-1.94696943,  5.26129073],\n",
       "       [ 3.12471542,  7.33174609],\n",
       "       [-1.9898966 ,  3.9870117 ],\n",
       "       [-2.96599081,  4.42598778],\n",
       "       [-1.99576726,  3.6851587 ],\n",
       "       [ 3.28944304,  8.88774794],\n",
       "       [ 5.28298509,  6.4997026 ],\n",
       "       [-1.03917091,  2.58797142],\n",
       "       [ 2.60661407,  7.1981664 ],\n",
       "       [-0.53500827,  4.05017937],\n",
       "       [-1.62021056,  4.37007809],\n",
       "       [ 3.54690175,  8.07953848],\n",
       "       [-1.82340008,  3.92417509],\n",
       "       [ 2.95038862,  7.38298409],\n",
       "       [-1.98444444,  5.63621484],\n",
       "       [-1.36454603,  3.44766501],\n",
       "       [-1.74541036,  3.88803179],\n",
       "       [ 4.82165648,  8.99371424],\n",
       "       [-1.32304558,  2.6709946 ],\n",
       "       [ 3.95775077,  8.35130016],\n",
       "       [-1.43667523,  3.27800258],\n",
       "       [ 4.2325041 ,  8.43821678],\n",
       "       [ 4.20563407,  8.86005064],\n",
       "       [ 4.20713038,  7.50364186],\n",
       "       [ 2.58485047,  6.31642148],\n",
       "       [ 3.20438912,  9.72973853],\n",
       "       [-1.0429131 ,  4.69785662],\n",
       "       [ 4.67969515,  8.74980358],\n",
       "       [ 5.33681383,  6.10507617],\n",
       "       [-1.25367286,  3.98655846],\n",
       "       [-0.20837074,  3.99919382],\n",
       "       [ 6.67801713,  5.81177613],\n",
       "       [ 5.13819801,  8.21636081],\n",
       "       [ 4.25596735,  7.60111652],\n",
       "       [ 4.10917655,  7.25486248],\n",
       "       [-1.46011498,  3.82395465],\n",
       "       [ 5.4074092 ,  6.27403567],\n",
       "       [-1.53359111,  3.53521594],\n",
       "       [ 4.41553845,  7.76363076],\n",
       "       [-0.71172704,  3.3020415 ],\n",
       "       [ 3.81960069,  7.20999634],\n",
       "       [ 6.16279841,  8.3413834 ],\n",
       "       [-1.77214729,  3.60493957],\n",
       "       [-0.38102039,  4.7290884 ],\n",
       "       [-1.47180923,  2.9077484 ],\n",
       "       [ 3.99725017,  7.88018996],\n",
       "       [-1.55492897,  4.40380364],\n",
       "       [-1.40327311,  2.24446834],\n",
       "       [ 3.77106927,  7.58091316],\n",
       "       [ 4.6800065 ,  8.81187148],\n",
       "       [-0.8225031 ,  2.36171459],\n",
       "       [-1.34820861,  3.54835931],\n",
       "       [-0.75472509,  4.01740463],\n",
       "       [ 0.18881225,  2.28111363],\n",
       "       [-1.63860773,  2.93240287],\n",
       "       [ 3.11739837,  5.28587185],\n",
       "       [ 5.543113  ,  7.702791  ],\n",
       "       [ 4.86673066,  8.49932053],\n",
       "       [ 4.32643095,  6.89275865],\n",
       "       [-0.83402338,  3.88115878],\n",
       "       [-0.28336099,  2.23441896],\n",
       "       [-1.02915812,  2.4945765 ],\n",
       "       [ 4.65094746,  8.00676104],\n",
       "       [ 5.27248603,  5.37296253],\n",
       "       [-1.51134211,  4.83707039],\n",
       "       [-0.21333833,  2.06273071],\n",
       "       [ 4.37016012,  7.38461913],\n",
       "       [-3.54103149,  3.72742441],\n",
       "       [ 4.37761005,  5.34626672],\n",
       "       [-2.30748422,  0.64507989],\n",
       "       [-2.64214941,  3.12814042],\n",
       "       [ 4.96568763,  7.1863981 ],\n",
       "       [-0.46841006,  3.55094914],\n",
       "       [-3.64814604,  4.6308206 ],\n",
       "       [ 4.00512072,  8.25801309],\n",
       "       [-0.81414954,  4.17669396],\n",
       "       [ 0.09560746,  3.83272423],\n",
       "       [-3.75475577,  2.71356583],\n",
       "       [ 3.46274304,  5.64840525],\n",
       "       [-1.39373669,  2.07674227],\n",
       "       [-0.30997358,  3.45486721],\n",
       "       [ 3.14699998,  7.64116465],\n",
       "       [ 2.97580816,  7.80817098],\n",
       "       [-1.24314116,  3.63601091],\n",
       "       [-1.75721365,  3.85470794],\n",
       "       [ 3.77357   ,  6.47887527],\n",
       "       [ 4.01280552,  7.50250458],\n",
       "       [ 3.65971909,  6.24211701],\n",
       "       [ 2.31694692,  7.09781704],\n",
       "       [-2.71505641,  2.91692609],\n",
       "       [ 2.39127205,  6.32334052],\n",
       "       [ 3.68820078,  7.0095513 ],\n",
       "       [-1.19113454,  1.98977317],\n",
       "       [-2.81856709,  4.38181923],\n",
       "       [-1.18235206,  4.00595012],\n",
       "       [-1.30030958,  4.26838595],\n",
       "       [ 3.43707332,  7.50214986],\n",
       "       [ 2.76881511,  8.02491574],\n",
       "       [ 4.34020466,  6.21766034],\n",
       "       [-2.2258091 ,  5.40570951],\n",
       "       [ 5.71527877,  8.373805  ],\n",
       "       [-1.95324895,  3.35002148],\n",
       "       [ 5.06811161,  7.01205057],\n",
       "       [ 3.4476829 ,  8.28497297],\n",
       "       [-0.1112898 ,  3.69729597],\n",
       "       [-1.97356407,  3.00003873]])"
      ]
     },
     "execution_count": 10,
     "metadata": {},
     "output_type": "execute_result"
    }
   ],
   "source": [
    "data = make_blobs(n_samples=200,n_features=2,centers=2)[0]\n",
    "data"
   ]
  },
  {
   "cell_type": "code",
   "execution_count": 18,
   "id": "df39f3f7",
   "metadata": {},
   "outputs": [
    {
     "data": {
      "text/html": [
       "<div>\n",
       "<style scoped>\n",
       "    .dataframe tbody tr th:only-of-type {\n",
       "        vertical-align: middle;\n",
       "    }\n",
       "\n",
       "    .dataframe tbody tr th {\n",
       "        vertical-align: top;\n",
       "    }\n",
       "\n",
       "    .dataframe thead th {\n",
       "        text-align: right;\n",
       "    }\n",
       "</style>\n",
       "<table border=\"1\" class=\"dataframe\">\n",
       "  <thead>\n",
       "    <tr style=\"text-align: right;\">\n",
       "      <th></th>\n",
       "      <th>age</th>\n",
       "      <th>height</th>\n",
       "    </tr>\n",
       "  </thead>\n",
       "  <tbody>\n",
       "    <tr>\n",
       "      <th>0</th>\n",
       "      <td>-9.292622</td>\n",
       "      <td>8.772133</td>\n",
       "    </tr>\n",
       "    <tr>\n",
       "      <th>1</th>\n",
       "      <td>9.148512</td>\n",
       "      <td>-4.348718</td>\n",
       "    </tr>\n",
       "    <tr>\n",
       "      <th>2</th>\n",
       "      <td>9.081190</td>\n",
       "      <td>-2.194198</td>\n",
       "    </tr>\n",
       "    <tr>\n",
       "      <th>3</th>\n",
       "      <td>6.702357</td>\n",
       "      <td>-1.709786</td>\n",
       "    </tr>\n",
       "    <tr>\n",
       "      <th>4</th>\n",
       "      <td>8.611586</td>\n",
       "      <td>-2.775290</td>\n",
       "    </tr>\n",
       "  </tbody>\n",
       "</table>\n",
       "</div>"
      ],
      "text/plain": [
       "        age    height\n",
       "0 -9.292622  8.772133\n",
       "1  9.148512 -4.348718\n",
       "2  9.081190 -2.194198\n",
       "3  6.702357 -1.709786\n",
       "4  8.611586 -2.775290"
      ]
     },
     "execution_count": 18,
     "metadata": {},
     "output_type": "execute_result"
    }
   ],
   "source": [
    "data = pd.DataFrame(make_blobs(n_samples=200,n_features=2,centers=3)[0],columns=['age','height'])\n",
    "data.head()"
   ]
  },
  {
   "cell_type": "code",
   "execution_count": 19,
   "id": "e95b20d6",
   "metadata": {},
   "outputs": [
    {
     "data": {
      "image/png": "[encoded data removed]",
      "text/plain": [
       "<Figure size 640x480 with 1 Axes>"
      ]
     },
     "metadata": {},
     "output_type": "display_data"
    }
   ],
   "source": [
    "plt.scatter(x='age',y='height',data=data)\n",
    "plt.show()"
   ]
  },
  {
   "cell_type": "code",
   "execution_count": null,
   "id": "dd586bc1",
   "metadata": {},
   "outputs": [],
   "source": [
    "If clusters are far we get clear elbow point"
   ]
  },
  {
   "cell_type": "code",
   "execution_count": 21,
   "id": "92b2ed0e",
   "metadata": {},
   "outputs": [
    {
     "data": {
      "text/plain": [
       "[<matplotlib.lines.Line2D at 0x2820b8bb0>]"
      ]
     },
     "execution_count": 21,
     "metadata": {},
     "output_type": "execute_result"
    },
    {
     "data": {
      "image/png": "[encoded data removed]",
      "text/plain": [
       "<Figure size 640x480 with 1 Axes>"
      ]
     },
     "metadata": {},
     "output_type": "display_data"
    }
   ],
   "source": [
    "inertia = []\n",
    "for k in range(1,11):\n",
    "    model = KMeans(n_clusters=k)\n",
    "    model.fit(data)\n",
    "    inertia.append(model.inertia_)\n",
    "plt.plot()\n",
    "plt.plot(range(1,11),inertia,marker='o')"
   ]
  },
  {
   "cell_type": "code",
   "execution_count": null,
   "id": "8b8add46",
   "metadata": {},
   "outputs": [],
   "source": [
    "perfect elbow point 3"
   ]
  },
  {
   "cell_type": "markdown",
   "id": "4d919612",
   "metadata": {},
   "source": [
    "Example"
   ]
  },
  {
   "cell_type": "code",
   "execution_count": 28,
   "id": "a90974f2",
   "metadata": {},
   "outputs": [
    {
     "data": {
      "text/html": [
       "<div>\n",
       "<style scoped>\n",
       "    .dataframe tbody tr th:only-of-type {\n",
       "        vertical-align: middle;\n",
       "    }\n",
       "\n",
       "    .dataframe tbody tr th {\n",
       "        vertical-align: top;\n",
       "    }\n",
       "\n",
       "    .dataframe thead th {\n",
       "        text-align: right;\n",
       "    }\n",
       "</style>\n",
       "<table border=\"1\" class=\"dataframe\">\n",
       "  <thead>\n",
       "    <tr style=\"text-align: right;\">\n",
       "      <th></th>\n",
       "      <th>age</th>\n",
       "      <th>height</th>\n",
       "    </tr>\n",
       "  </thead>\n",
       "  <tbody>\n",
       "    <tr>\n",
       "      <th>0</th>\n",
       "      <td>-3.611794</td>\n",
       "      <td>5.543881</td>\n",
       "    </tr>\n",
       "    <tr>\n",
       "      <th>1</th>\n",
       "      <td>-1.920600</td>\n",
       "      <td>7.883488</td>\n",
       "    </tr>\n",
       "    <tr>\n",
       "      <th>2</th>\n",
       "      <td>0.693575</td>\n",
       "      <td>7.439751</td>\n",
       "    </tr>\n",
       "    <tr>\n",
       "      <th>3</th>\n",
       "      <td>-1.403484</td>\n",
       "      <td>6.480479</td>\n",
       "    </tr>\n",
       "    <tr>\n",
       "      <th>4</th>\n",
       "      <td>-1.771384</td>\n",
       "      <td>8.796011</td>\n",
       "    </tr>\n",
       "  </tbody>\n",
       "</table>\n",
       "</div>"
      ],
      "text/plain": [
       "        age    height\n",
       "0 -3.611794  5.543881\n",
       "1 -1.920600  7.883488\n",
       "2  0.693575  7.439751\n",
       "3 -1.403484  6.480479\n",
       "4 -1.771384  8.796011"
      ]
     },
     "execution_count": 28,
     "metadata": {},
     "output_type": "execute_result"
    }
   ],
   "source": [
    "data = pd.DataFrame(make_blobs(n_samples=200,n_features=2,centers=2)[0],columns=['age','height'])\n",
    "data.head()"
   ]
  },
  {
   "cell_type": "code",
   "execution_count": 29,
   "id": "3c46f16b",
   "metadata": {},
   "outputs": [
    {
     "data": {
      "image/png": "[encoded data removed]",
      "text/plain": [
       "<Figure size 640x480 with 1 Axes>"
      ]
     },
     "metadata": {},
     "output_type": "display_data"
    }
   ],
   "source": [
    "plt.scatter(x='age',y='height',data=data)\n",
    "plt.show()"
   ]
  },
  {
   "cell_type": "code",
   "execution_count": null,
   "id": "bd1a3ca9",
   "metadata": {},
   "outputs": [],
   "source": [
    "If data points are like this we cant decide elbow point"
   ]
  },
  {
   "cell_type": "code",
   "execution_count": 30,
   "id": "a8160f19",
   "metadata": {},
   "outputs": [
    {
     "data": {
      "text/plain": [
       "[<matplotlib.lines.Line2D at 0x287af6e20>]"
      ]
     },
     "execution_count": 30,
     "metadata": {},
     "output_type": "execute_result"
    },
    {
     "data": {
      "image/png": "[encoded data removed]",
      "text/plain": [
       "<Figure size 640x480 with 1 Axes>"
      ]
     },
     "metadata": {},
     "output_type": "display_data"
    }
   ],
   "source": [
    "inertia = []\n",
    "for k in range(1,11):\n",
    "    model = KMeans(n_clusters=k)\n",
    "    model.fit(data)\n",
    "    inertia.append(model.inertia_)\n",
    "plt.plot()\n",
    "plt.plot(range(1,11),inertia,marker='o')"
   ]
  },
  {
   "cell_type": "code",
   "execution_count": null,
   "id": "c734715b",
   "metadata": {},
   "outputs": [],
   "source": [
    "here 2 or 3, we have confusion, we can check with kneedalgorith"
   ]
  },
  {
   "cell_type": "code",
   "execution_count": 32,
   "id": "755a108c",
   "metadata": {},
   "outputs": [
    {
     "data": {
      "text/plain": [
       "3"
      ]
     },
     "execution_count": 32,
     "metadata": {},
     "output_type": "execute_result"
    }
   ],
   "source": [
    "k1 = KneeLocator(x=range(1,11),y=inertia,curve='convex',direction='decreasing')\n",
    "k1.elbow"
   ]
  },
  {
   "cell_type": "markdown",
   "id": "28191786",
   "metadata": {},
   "source": [
    "Example"
   ]
  },
  {
   "cell_type": "code",
   "execution_count": 35,
   "id": "5fc71e05",
   "metadata": {},
   "outputs": [
    {
     "data": {
      "text/html": [
       "<div>\n",
       "<style scoped>\n",
       "    .dataframe tbody tr th:only-of-type {\n",
       "        vertical-align: middle;\n",
       "    }\n",
       "\n",
       "    .dataframe tbody tr th {\n",
       "        vertical-align: top;\n",
       "    }\n",
       "\n",
       "    .dataframe thead th {\n",
       "        text-align: right;\n",
       "    }\n",
       "</style>\n",
       "<table border=\"1\" class=\"dataframe\">\n",
       "  <thead>\n",
       "    <tr style=\"text-align: right;\">\n",
       "      <th></th>\n",
       "      <th>age</th>\n",
       "      <th>height</th>\n",
       "    </tr>\n",
       "  </thead>\n",
       "  <tbody>\n",
       "    <tr>\n",
       "      <th>0</th>\n",
       "      <td>-7.006712</td>\n",
       "      <td>-1.627339</td>\n",
       "    </tr>\n",
       "    <tr>\n",
       "      <th>1</th>\n",
       "      <td>-7.226535</td>\n",
       "      <td>-2.756199</td>\n",
       "    </tr>\n",
       "    <tr>\n",
       "      <th>2</th>\n",
       "      <td>-0.443824</td>\n",
       "      <td>8.273803</td>\n",
       "    </tr>\n",
       "    <tr>\n",
       "      <th>3</th>\n",
       "      <td>-9.571832</td>\n",
       "      <td>-4.346247</td>\n",
       "    </tr>\n",
       "    <tr>\n",
       "      <th>4</th>\n",
       "      <td>1.875575</td>\n",
       "      <td>7.052552</td>\n",
       "    </tr>\n",
       "  </tbody>\n",
       "</table>\n",
       "</div>"
      ],
      "text/plain": [
       "        age    height\n",
       "0 -7.006712 -1.627339\n",
       "1 -7.226535 -2.756199\n",
       "2 -0.443824  8.273803\n",
       "3 -9.571832 -4.346247\n",
       "4  1.875575  7.052552"
      ]
     },
     "execution_count": 35,
     "metadata": {},
     "output_type": "execute_result"
    }
   ],
   "source": [
    "data = pd.DataFrame(make_blobs(n_samples=200,n_features=2,centers=2)[0],columns=['age','height'])\n",
    "data.head()"
   ]
  },
  {
   "cell_type": "code",
   "execution_count": 36,
   "id": "92e1af0d",
   "metadata": {},
   "outputs": [
    {
     "data": {
      "image/png": "[encoded data removed]",
      "text/plain": [
       "<Figure size 640x480 with 1 Axes>"
      ]
     },
     "metadata": {},
     "output_type": "display_data"
    }
   ],
   "source": [
    "plt.scatter(x='age',y='height',data=data)\n",
    "plt.show()\n"
   ]
  },
  {
   "cell_type": "code",
   "execution_count": null,
   "id": "307fff18",
   "metadata": {},
   "outputs": [],
   "source": [
    "data points are far we get perfect elbow point"
   ]
  },
  {
   "cell_type": "code",
   "execution_count": 37,
   "id": "685435e9",
   "metadata": {},
   "outputs": [
    {
     "data": {
      "text/plain": [
       "[<matplotlib.lines.Line2D at 0x287c4c3d0>]"
      ]
     },
     "execution_count": 37,
     "metadata": {},
     "output_type": "execute_result"
    },
    {
     "data": {
      "image/png": "[encoded data removed]",
      "text/plain": [
       "<Figure size 640x480 with 1 Axes>"
      ]
     },
     "metadata": {},
     "output_type": "display_data"
    }
   ],
   "source": [
    "inertia = []\n",
    "for k in range(1,11):\n",
    "    model = KMeans(n_clusters=k)\n",
    "    model.fit(data)\n",
    "    inertia.append(model.inertia_)\n",
    "plt.plot()\n",
    "plt.plot(range(1,11),inertia,marker='o')"
   ]
  },
  {
   "cell_type": "code",
   "execution_count": 38,
   "id": "9ada5320",
   "metadata": {},
   "outputs": [
    {
     "data": {
      "text/plain": [
       "2"
      ]
     },
     "execution_count": 38,
     "metadata": {},
     "output_type": "execute_result"
    }
   ],
   "source": [
    "k1 = KneeLocator(x=range(1,11),y=inertia,curve='convex',direction='decreasing')\n",
    "k1.elbow"
   ]
  },
  {
   "cell_type": "code",
   "execution_count": null,
   "id": "9daab446",
   "metadata": {},
   "outputs": [],
   "source": [
    "Example"
   ]
  },
  {
   "cell_type": "code",
   "execution_count": 41,
   "id": "4737311a",
   "metadata": {},
   "outputs": [
    {
     "data": {
      "text/html": [
       "<div>\n",
       "<style scoped>\n",
       "    .dataframe tbody tr th:only-of-type {\n",
       "        vertical-align: middle;\n",
       "    }\n",
       "\n",
       "    .dataframe tbody tr th {\n",
       "        vertical-align: top;\n",
       "    }\n",
       "\n",
       "    .dataframe thead th {\n",
       "        text-align: right;\n",
       "    }\n",
       "</style>\n",
       "<table border=\"1\" class=\"dataframe\">\n",
       "  <thead>\n",
       "    <tr style=\"text-align: right;\">\n",
       "      <th></th>\n",
       "      <th>age</th>\n",
       "      <th>height</th>\n",
       "    </tr>\n",
       "  </thead>\n",
       "  <tbody>\n",
       "    <tr>\n",
       "      <th>0</th>\n",
       "      <td>-6.025350</td>\n",
       "      <td>7.017541</td>\n",
       "    </tr>\n",
       "    <tr>\n",
       "      <th>1</th>\n",
       "      <td>-2.816636</td>\n",
       "      <td>8.495067</td>\n",
       "    </tr>\n",
       "    <tr>\n",
       "      <th>2</th>\n",
       "      <td>-3.343675</td>\n",
       "      <td>7.231075</td>\n",
       "    </tr>\n",
       "    <tr>\n",
       "      <th>3</th>\n",
       "      <td>-3.884741</td>\n",
       "      <td>7.353812</td>\n",
       "    </tr>\n",
       "    <tr>\n",
       "      <th>4</th>\n",
       "      <td>-7.970848</td>\n",
       "      <td>3.379440</td>\n",
       "    </tr>\n",
       "  </tbody>\n",
       "</table>\n",
       "</div>"
      ],
      "text/plain": [
       "        age    height\n",
       "0 -6.025350  7.017541\n",
       "1 -2.816636  8.495067\n",
       "2 -3.343675  7.231075\n",
       "3 -3.884741  7.353812\n",
       "4 -7.970848  3.379440"
      ]
     },
     "execution_count": 41,
     "metadata": {},
     "output_type": "execute_result"
    }
   ],
   "source": [
    "data = pd.DataFrame(make_blobs(n_samples=200,n_features=2,centers=4)[0],columns=['age','height'])\n",
    "data.head()"
   ]
  },
  {
   "cell_type": "code",
   "execution_count": 42,
   "id": "ea823a89",
   "metadata": {},
   "outputs": [
    {
     "data": {
      "image/png": "[encoded data removed]",
      "text/plain": [
       "<Figure size 640x480 with 1 Axes>"
      ]
     },
     "metadata": {},
     "output_type": "display_data"
    }
   ],
   "source": [
    "plt.scatter(x='age',y='height',data=data)\n",
    "plt.show()\n"
   ]
  },
  {
   "cell_type": "code",
   "execution_count": null,
   "id": "d6e4da13",
   "metadata": {},
   "outputs": [],
   "source": [
    "sklearn saying 4 clusters, but according to clustering algorithm 3 should be better, we will ask kneed also"
   ]
  },
  {
   "cell_type": "code",
   "execution_count": 43,
   "id": "8413d297",
   "metadata": {},
   "outputs": [
    {
     "data": {
      "text/plain": [
       "[<matplotlib.lines.Line2D at 0x287d81c40>]"
      ]
     },
     "execution_count": 43,
     "metadata": {},
     "output_type": "execute_result"
    },
    {
     "data": {
      "image/png": "[encoded data removed]",
      "text/plain": [
       "<Figure size 640x480 with 1 Axes>"
      ]
     },
     "metadata": {},
     "output_type": "display_data"
    }
   ],
   "source": [
    "inertia = []\n",
    "for k in range(1,11):\n",
    "    model = KMeans(n_clusters=k)\n",
    "    model.fit(data)\n",
    "    inertia.append(model.inertia_)\n",
    "plt.plot()\n",
    "plt.plot(range(1,11),inertia,marker='o')"
   ]
  },
  {
   "cell_type": "code",
   "execution_count": 44,
   "id": "7c4b041a",
   "metadata": {},
   "outputs": [
    {
     "data": {
      "text/plain": [
       "3"
      ]
     },
     "execution_count": 44,
     "metadata": {},
     "output_type": "execute_result"
    }
   ],
   "source": [
    "k1 = KneeLocator(x=range(1,11),y=inertia,curve='convex',direction='decreasing')\n",
    "k1.elbow"
   ]
  },
  {
   "cell_type": "code",
   "execution_count": null,
   "id": "2c44c271",
   "metadata": {},
   "outputs": [],
   "source": [
    "Kneed is also saying 3 is better"
   ]
  },
  {
   "cell_type": "code",
   "execution_count": null,
   "id": "7e18fa4e",
   "metadata": {},
   "outputs": [],
   "source": [
    "Example"
   ]
  },
  {
   "cell_type": "code",
   "execution_count": 46,
   "id": "b99e639d",
   "metadata": {},
   "outputs": [
    {
     "data": {
      "text/html": [
       "<div>\n",
       "<style scoped>\n",
       "    .dataframe tbody tr th:only-of-type {\n",
       "        vertical-align: middle;\n",
       "    }\n",
       "\n",
       "    .dataframe tbody tr th {\n",
       "        vertical-align: top;\n",
       "    }\n",
       "\n",
       "    .dataframe thead th {\n",
       "        text-align: right;\n",
       "    }\n",
       "</style>\n",
       "<table border=\"1\" class=\"dataframe\">\n",
       "  <thead>\n",
       "    <tr style=\"text-align: right;\">\n",
       "      <th></th>\n",
       "      <th>age</th>\n",
       "      <th>height</th>\n",
       "    </tr>\n",
       "  </thead>\n",
       "  <tbody>\n",
       "    <tr>\n",
       "      <th>0</th>\n",
       "      <td>7.433799</td>\n",
       "      <td>-10.294453</td>\n",
       "    </tr>\n",
       "    <tr>\n",
       "      <th>1</th>\n",
       "      <td>9.865461</td>\n",
       "      <td>-10.184121</td>\n",
       "    </tr>\n",
       "    <tr>\n",
       "      <th>2</th>\n",
       "      <td>9.802843</td>\n",
       "      <td>-8.057909</td>\n",
       "    </tr>\n",
       "    <tr>\n",
       "      <th>3</th>\n",
       "      <td>10.504680</td>\n",
       "      <td>-9.301113</td>\n",
       "    </tr>\n",
       "    <tr>\n",
       "      <th>4</th>\n",
       "      <td>4.561150</td>\n",
       "      <td>7.024526</td>\n",
       "    </tr>\n",
       "  </tbody>\n",
       "</table>\n",
       "</div>"
      ],
      "text/plain": [
       "         age     height\n",
       "0   7.433799 -10.294453\n",
       "1   9.865461 -10.184121\n",
       "2   9.802843  -8.057909\n",
       "3  10.504680  -9.301113\n",
       "4   4.561150   7.024526"
      ]
     },
     "execution_count": 46,
     "metadata": {},
     "output_type": "execute_result"
    }
   ],
   "source": [
    "data = pd.DataFrame(make_blobs(n_samples=200,n_features=2,centers=5)[0],columns=['age','height'])\n",
    "data.head()"
   ]
  },
  {
   "cell_type": "code",
   "execution_count": 47,
   "id": "3e6cb06a",
   "metadata": {},
   "outputs": [
    {
     "data": {
      "image/png": "[encoded data removed]",
      "text/plain": [
       "<Figure size 640x480 with 1 Axes>"
      ]
     },
     "metadata": {},
     "output_type": "display_data"
    }
   ],
   "source": [
    "plt.scatter(x='age',y='height',data=data)\n",
    "plt.show()\n"
   ]
  },
  {
   "cell_type": "code",
   "execution_count": null,
   "id": "b112d18e",
   "metadata": {},
   "outputs": [],
   "source": [
    "according to sklearn it is 5 clusters, we say 4 should be better, we will ask kneed"
   ]
  },
  {
   "cell_type": "code",
   "execution_count": 48,
   "id": "1f2fb481",
   "metadata": {},
   "outputs": [
    {
     "data": {
      "text/plain": [
       "[<matplotlib.lines.Line2D at 0x287e4f6a0>]"
      ]
     },
     "execution_count": 48,
     "metadata": {},
     "output_type": "execute_result"
    },
    {
     "data": {
      "image/png": "[encoded data removed]",
      "text/plain": [
       "<Figure size 640x480 with 1 Axes>"
      ]
     },
     "metadata": {},
     "output_type": "display_data"
    }
   ],
   "source": [
    "inertia = []\n",
    "for k in range(1,11):\n",
    "    model = KMeans(n_clusters=k)\n",
    "    model.fit(data)\n",
    "    inertia.append(model.inertia_)\n",
    "plt.plot()\n",
    "plt.plot(range(1,11),inertia,marker='o')"
   ]
  },
  {
   "cell_type": "code",
   "execution_count": 49,
   "id": "68941e6e",
   "metadata": {},
   "outputs": [
    {
     "data": {
      "text/plain": [
       "3"
      ]
     },
     "execution_count": 49,
     "metadata": {},
     "output_type": "execute_result"
    }
   ],
   "source": [
    "k1 = KneeLocator(x=range(1,11),y=inertia,curve='convex',direction='decreasing')\n",
    "k1.elbow"
   ]
  },
  {
   "cell_type": "code",
   "execution_count": null,
   "id": "eec6cfb8",
   "metadata": {},
   "outputs": [],
   "source": [
    "kneed is saying 3 is better, it will try to find where the intertia started decreasing slowly"
   ]
  },
  {
   "cell_type": "code",
   "execution_count": 50,
   "id": "faacb980",
   "metadata": {},
   "outputs": [
    {
     "name": "stdout",
     "output_type": "stream",
     "text": [
      "977.403808946625\n"
     ]
    }
   ],
   "source": [
    "model = KMeans(n_clusters = 3)\n",
    "model.fit(data)\n",
    "clusters = model.predict(data)\n",
    "centers = model.cluster_centers_\n",
    "print(model.inertia_)"
   ]
  },
  {
   "cell_type": "code",
   "execution_count": 51,
   "id": "52d82620",
   "metadata": {},
   "outputs": [
    {
     "data": {
      "image/png": "[encoded data removed]",
      "text/plain": [
       "<Figure size 640x480 with 1 Axes>"
      ]
     },
     "metadata": {},
     "output_type": "display_data"
    }
   ],
   "source": [
    "plt.scatter(x='age',y='height',data=data[clusters==0],label='cluster 0')\n",
    "plt.scatter(x='age',y='height',data=data[clusters==1],label='cluster 1')\n",
    "plt.scatter(x='age',y='height',data=data[clusters==2],label='cluster 2')\n",
    "plt.scatter(centers[:,0],centers[:,1],c='red',s=100)\n",
    "plt.show()"
   ]
  },
  {
   "cell_type": "code",
   "execution_count": 82,
   "id": "03c90cb1",
   "metadata": {},
   "outputs": [
    {
     "name": "stdout",
     "output_type": "stream",
     "text": [
      "266.13324481842494\n"
     ]
    }
   ],
   "source": [
    "model = KMeans(n_clusters = 5)\n",
    "model.fit(data)\n",
    "clusters = model.predict(data)\n",
    "centers = model.cluster_centers_\n",
    "print(model.inertia_)"
   ]
  },
  {
   "cell_type": "code",
   "execution_count": 83,
   "id": "b28fc3d5",
   "metadata": {},
   "outputs": [
    {
     "data": {
      "image/png": "[encoded data removed]",
      "text/plain": [
       "<Figure size 640x480 with 1 Axes>"
      ]
     },
     "metadata": {},
     "output_type": "display_data"
    }
   ],
   "source": [
    "plt.scatter(x='age',y='height',data=data[clusters==0],label='cluster 0')\n",
    "plt.scatter(x='age',y='height',data=data[clusters==1],label='cluster 1')\n",
    "plt.scatter(x='age',y='height',data=data[clusters==2],label='cluster 2')\n",
    "plt.scatter(x='age',y='height',data=data[clusters==3],label='cluster 3')\n",
    "plt.scatter(x='age',y='height',data=data[clusters==4],label='cluster 4')\n",
    "plt.scatter(centers[:,0],centers[:,1],c='red',s=100)\n",
    "plt.show()"
   ]
  },
  {
   "cell_type": "code",
   "execution_count": null,
   "id": "005ad4f2",
   "metadata": {},
   "outputs": [],
   "source": [
    "MODEL CAN do 5 clusers, "
   ]
  },
  {
   "cell_type": "code",
   "execution_count": 59,
   "id": "6580fcd2",
   "metadata": {},
   "outputs": [
    {
     "data": {
      "text/plain": [
       "(array([[-3.82257   ,  4.36329312],\n",
       "        [-7.00714237,  7.40599883],\n",
       "        [-7.51441902,  6.16826196],\n",
       "        [-6.46274331,  5.53327816],\n",
       "        [-7.39836315,  6.98646167],\n",
       "        [-3.89237037,  3.90557086],\n",
       "        [-4.39898636,  4.58268354],\n",
       "        [-8.01350126,  5.2692841 ],\n",
       "        [-6.57559285,  8.41458573],\n",
       "        [-6.99892771,  7.72272528],\n",
       "        [-6.97493257,  5.83420693],\n",
       "        [-6.52974537,  7.00612086],\n",
       "        [-7.28456082,  6.99739772],\n",
       "        [-5.28554673,  3.9181464 ],\n",
       "        [-8.25654788,  9.23842263],\n",
       "        [-7.73906595,  8.32247334],\n",
       "        [-7.82690325,  6.38193903],\n",
       "        [-3.75853459,  3.47609543],\n",
       "        [-5.77975928,  5.91476408],\n",
       "        [-6.42020975,  6.0703019 ],\n",
       "        [-5.37557473,  3.78709041],\n",
       "        [-4.1664038 ,  3.48439538],\n",
       "        [-4.70120066,  3.87288426],\n",
       "        [-6.27596811,  5.08049692],\n",
       "        [-5.99773943,  7.03185705],\n",
       "        [-5.07405056,  3.70032698],\n",
       "        [-5.46024443,  6.54267691],\n",
       "        [-7.10612843,  6.06088683],\n",
       "        [-6.96628986,  7.38565858],\n",
       "        [-6.28086412,  8.5544764 ],\n",
       "        [-3.77213134,  3.88829919],\n",
       "        [-3.70060617,  4.31696656],\n",
       "        [-4.21559225,  3.20091008],\n",
       "        [-8.01788679,  7.86493694],\n",
       "        [-6.41168296,  8.25601675],\n",
       "        [-8.26839079,  7.84936011],\n",
       "        [-4.83185063,  4.76264396],\n",
       "        [-8.12741907,  6.59007776],\n",
       "        [-5.17725138,  3.44090857],\n",
       "        [-7.41757315,  7.22229499],\n",
       "        [-4.01951752,  2.78553748],\n",
       "        [-6.54381889,  5.33328108],\n",
       "        [-7.84724076,  6.09822604],\n",
       "        [-4.83119524,  4.5828706 ],\n",
       "        [-6.71380238,  6.68767139],\n",
       "        [-7.78037499,  6.11230769],\n",
       "        [-6.02420048,  2.6387258 ],\n",
       "        [-8.16690189,  6.31935339],\n",
       "        [-5.77150604,  7.31283948],\n",
       "        [-8.30975956,  5.45896996],\n",
       "        [-5.01565388,  4.47106019],\n",
       "        [-8.29827832,  6.23850314],\n",
       "        [-6.90483637,  3.99666905],\n",
       "        [-5.80633885,  4.03758751],\n",
       "        [-7.20026755,  6.34171623],\n",
       "        [-4.6412729 ,  4.60915952],\n",
       "        [-6.54159561,  7.43971755],\n",
       "        [-7.08885592,  7.6399418 ],\n",
       "        [-3.15498892,  4.73851221],\n",
       "        [-6.87843117,  6.62466754],\n",
       "        [-5.35215338,  5.33656185],\n",
       "        [-4.22192992,  4.99657251],\n",
       "        [-4.63495874,  3.76638741],\n",
       "        [-6.62888866,  6.71834895],\n",
       "        [-4.56062399,  4.03740695],\n",
       "        [-6.8994262 ,  4.62023417],\n",
       "        [-5.41836139,  3.84485058],\n",
       "        [-4.30439522,  5.18974944],\n",
       "        [-4.67398968,  5.0176619 ],\n",
       "        [-8.37411763,  5.76641323],\n",
       "        [-6.3248638 ,  5.59166131],\n",
       "        [-7.83869718,  5.84006441],\n",
       "        [-4.27182209,  4.96134389],\n",
       "        [-7.16479157,  6.1690165 ],\n",
       "        [-3.4313364 ,  4.02887876],\n",
       "        [-4.77600906,  6.48320805],\n",
       "        [-5.23841864,  5.22381619],\n",
       "        [-8.79218573,  6.27229704],\n",
       "        [-5.65401373,  5.09194089],\n",
       "        [-5.9257246 ,  2.23991468],\n",
       "        [-5.58757097,  2.46125585],\n",
       "        [-6.0379133 ,  3.57467035],\n",
       "        [-8.53632282,  6.65226187],\n",
       "        [-8.25961242,  6.43424794],\n",
       "        [-4.47982447,  4.01221737],\n",
       "        [-5.06108494,  4.95280406],\n",
       "        [-5.54077199,  2.34387648],\n",
       "        [-4.48685321,  4.68455483],\n",
       "        [-6.39365158,  7.89554264],\n",
       "        [-8.11509075,  7.24342963],\n",
       "        [-3.73990974,  4.79348876],\n",
       "        [-5.28050999,  3.08381462],\n",
       "        [-7.28394483,  5.09034185],\n",
       "        [-4.72631426,  6.0290281 ],\n",
       "        [-8.23583497,  5.95856837],\n",
       "        [-4.48170853,  5.25864354],\n",
       "        [-5.89522197,  3.44806027],\n",
       "        [-5.95271474,  6.86426395],\n",
       "        [-3.76061251,  5.54274206],\n",
       "        [-6.04449614,  7.529025  ],\n",
       "        [-4.44968852,  4.43207844],\n",
       "        [-8.88999759,  4.85185864],\n",
       "        [-7.68210319,  7.02187988],\n",
       "        [-4.2745604 ,  3.97245895],\n",
       "        [-5.43326896,  3.24222301],\n",
       "        [-4.89834856,  4.77721301],\n",
       "        [-5.46277888,  4.04834617],\n",
       "        [-7.64490266,  7.47643998],\n",
       "        [-4.37640165,  4.51495426],\n",
       "        [-4.73222369,  4.07900408],\n",
       "        [-7.90032966,  6.50885582],\n",
       "        [-7.28947983,  7.51980058],\n",
       "        [-9.98376629,  6.23748053],\n",
       "        [-6.24488679,  2.32498501],\n",
       "        [-6.36020599,  7.2887072 ],\n",
       "        [-6.21952885,  6.17488742],\n",
       "        [-6.96505821,  4.04277468],\n",
       "        [-4.65562764,  3.28492918],\n",
       "        [-5.00517325,  4.25814002],\n",
       "        [-6.87931915,  5.0516659 ],\n",
       "        [-5.88603902,  5.85855446],\n",
       "        [-6.78595832,  6.21505549],\n",
       "        [-7.20108146,  6.28653332],\n",
       "        [-8.15267173,  6.49458743],\n",
       "        [-6.24522038,  7.74063921],\n",
       "        [-5.40858782,  5.50484577],\n",
       "        [-3.60131152,  3.68432111],\n",
       "        [-4.61827897,  6.04388186],\n",
       "        [-6.04721579,  3.88593761],\n",
       "        [-4.18535196,  2.92972327],\n",
       "        [-6.90745545,  7.31725054],\n",
       "        [-5.91210412,  3.96722277],\n",
       "        [-7.71148407,  4.81070131],\n",
       "        [-7.22255726,  6.69679664],\n",
       "        [-4.17835484,  3.33822256],\n",
       "        [-5.34097734,  6.54147395],\n",
       "        [-7.80131018,  7.57058653],\n",
       "        [-5.94473902,  6.17990914],\n",
       "        [-4.92781944,  3.65158785],\n",
       "        [-5.62637312,  5.86181037],\n",
       "        [-7.53152514,  7.05239695],\n",
       "        [-7.78376425,  7.78772898],\n",
       "        [-4.13064413,  3.79296757],\n",
       "        [-6.55767169,  4.4560951 ],\n",
       "        [-3.89214592,  3.51181881],\n",
       "        [-5.95584919,  5.19904175],\n",
       "        [-4.40239859,  2.8415139 ],\n",
       "        [-6.82880047,  7.6655708 ],\n",
       "        [-6.46702452,  6.9690786 ],\n",
       "        [-4.00716857,  3.6399792 ],\n",
       "        [-8.6408395 ,  7.85806233],\n",
       "        [-5.26424608,  5.1213975 ],\n",
       "        [-6.43010351,  4.41891305],\n",
       "        [-7.10597331,  5.39097254],\n",
       "        [-5.4093224 ,  3.68198298],\n",
       "        [-7.09472233,  7.67232066],\n",
       "        [-6.11907167,  5.73565333],\n",
       "        [-4.10179443,  5.03798184],\n",
       "        [-6.53616484,  7.11329458],\n",
       "        [-6.59752791,  2.73947283],\n",
       "        [-7.36898351,  7.15991901],\n",
       "        [-8.00512088,  7.74969688],\n",
       "        [-8.57199502,  6.2097299 ],\n",
       "        [-7.79385731,  5.89079034],\n",
       "        [-6.23555438,  5.48483319],\n",
       "        [-8.91471034,  6.08195492],\n",
       "        [-6.81478938,  3.86836994],\n",
       "        [-4.13984656,  4.22420715],\n",
       "        [-4.31505007,  4.13964378],\n",
       "        [-5.7867549 ,  4.10626786],\n",
       "        [-9.40167357,  7.40929673],\n",
       "        [-4.01186331,  2.7331454 ],\n",
       "        [-5.37066044,  3.31421575],\n",
       "        [-7.25283338,  6.15138522],\n",
       "        [-7.36132297,  4.62879264],\n",
       "        [-7.02984192,  7.9854468 ],\n",
       "        [-4.58238327,  4.37031269],\n",
       "        [-6.38207193,  7.28750763],\n",
       "        [-9.24917152,  5.96141572],\n",
       "        [-7.61952309,  5.30424096],\n",
       "        [-8.17785365,  5.5437086 ],\n",
       "        [-3.31395707,  4.44664895],\n",
       "        [-3.28928073,  6.36737159],\n",
       "        [-3.82353937,  4.14867091],\n",
       "        [-5.52979234,  4.87056825],\n",
       "        [-5.7063458 ,  4.30897024],\n",
       "        [-4.06916694,  5.03946574],\n",
       "        [-5.62351915,  3.19353786],\n",
       "        [-8.48019454,  6.86770131],\n",
       "        [-5.5832574 ,  5.10690323],\n",
       "        [-6.69897973,  7.51258765],\n",
       "        [-8.06761732,  6.57076178],\n",
       "        [-4.78940386,  4.67518486],\n",
       "        [-5.77870613,  4.95361639],\n",
       "        [-8.56924663,  7.81689749],\n",
       "        [-5.50371608,  4.02333721],\n",
       "        [-4.11020705,  3.70771901],\n",
       "        [-5.72864356,  3.33489379],\n",
       "        [-7.9878272 ,  5.59420727],\n",
       "        [-7.85898273,  6.08073817]]),\n",
       " array([0, 1, 1, 1, 1, 0, 0, 1, 1, 1, 1, 1, 1, 0, 1, 1, 1, 0, 0, 1, 0, 0,\n",
       "        0, 0, 1, 0, 1, 1, 1, 1, 0, 0, 0, 1, 1, 1, 0, 1, 0, 1, 0, 0, 1, 0,\n",
       "        1, 1, 0, 1, 1, 1, 0, 1, 1, 0, 1, 0, 1, 1, 0, 1, 0, 0, 0, 1, 0, 1,\n",
       "        0, 0, 0, 1, 0, 1, 0, 1, 0, 1, 0, 1, 0, 0, 0, 0, 1, 1, 0, 0, 0, 0,\n",
       "        1, 1, 0, 0, 0, 1, 1, 0, 0, 1, 0, 1, 0, 1, 1, 0, 0, 0, 0, 1, 0, 0,\n",
       "        1, 1, 1, 0, 1, 1, 0, 0, 0, 1, 1, 1, 1, 1, 1, 1, 0, 0, 0, 0, 1, 0,\n",
       "        1, 1, 0, 1, 1, 1, 0, 1, 1, 1, 0, 0, 0, 0, 0, 1, 1, 0, 1, 0, 0, 1,\n",
       "        0, 1, 0, 0, 1, 0, 1, 1, 1, 1, 1, 1, 0, 0, 0, 0, 1, 0, 0, 1, 0, 1,\n",
       "        0, 1, 1, 1, 1, 0, 0, 0, 0, 0, 0, 0, 1, 0, 1, 1, 0, 0, 1, 0, 0, 0,\n",
       "        1, 1]))"
      ]
     },
     "execution_count": 59,
     "metadata": {},
     "output_type": "execute_result"
    }
   ],
   "source": [
    "data = make_blobs(n_samples=200,n_features=2,centers=2)\n",
    "data"
   ]
  },
  {
   "cell_type": "code",
   "execution_count": 74,
   "id": "e6a17e51",
   "metadata": {},
   "outputs": [
    {
     "data": {
      "text/html": [
       "<div>\n",
       "<style scoped>\n",
       "    .dataframe tbody tr th:only-of-type {\n",
       "        vertical-align: middle;\n",
       "    }\n",
       "\n",
       "    .dataframe tbody tr th {\n",
       "        vertical-align: top;\n",
       "    }\n",
       "\n",
       "    .dataframe thead th {\n",
       "        text-align: right;\n",
       "    }\n",
       "</style>\n",
       "<table border=\"1\" class=\"dataframe\">\n",
       "  <thead>\n",
       "    <tr style=\"text-align: right;\">\n",
       "      <th></th>\n",
       "      <th>age</th>\n",
       "      <th>height</th>\n",
       "    </tr>\n",
       "  </thead>\n",
       "  <tbody>\n",
       "    <tr>\n",
       "      <th>0</th>\n",
       "      <td>-8.915335</td>\n",
       "      <td>-9.917402</td>\n",
       "    </tr>\n",
       "    <tr>\n",
       "      <th>1</th>\n",
       "      <td>4.384213</td>\n",
       "      <td>9.122459</td>\n",
       "    </tr>\n",
       "    <tr>\n",
       "      <th>2</th>\n",
       "      <td>-10.473441</td>\n",
       "      <td>-11.292903</td>\n",
       "    </tr>\n",
       "    <tr>\n",
       "      <th>3</th>\n",
       "      <td>4.146912</td>\n",
       "      <td>9.271379</td>\n",
       "    </tr>\n",
       "    <tr>\n",
       "      <th>4</th>\n",
       "      <td>5.339061</td>\n",
       "      <td>8.078665</td>\n",
       "    </tr>\n",
       "  </tbody>\n",
       "</table>\n",
       "</div>"
      ],
      "text/plain": [
       "         age     height\n",
       "0  -8.915335  -9.917402\n",
       "1   4.384213   9.122459\n",
       "2 -10.473441 -11.292903\n",
       "3   4.146912   9.271379\n",
       "4   5.339061   8.078665"
      ]
     },
     "execution_count": 74,
     "metadata": {},
     "output_type": "execute_result"
    }
   ],
   "source": [
    "data = pd.DataFrame(make_blobs(n_samples=200,n_features=2,centers=4)[0],columns=['age','height'])\n",
    "data.head()"
   ]
  },
  {
   "cell_type": "code",
   "execution_count": 75,
   "id": "4c873052",
   "metadata": {},
   "outputs": [
    {
     "data": {
      "image/png": "[encoded data removed]",
      "text/plain": [
       "<Figure size 640x480 with 1 Axes>"
      ]
     },
     "metadata": {},
     "output_type": "display_data"
    }
   ],
   "source": [
    "plt.scatter(x='age',y='height',data=data)\n",
    "plt.show()"
   ]
  },
  {
   "cell_type": "code",
   "execution_count": 76,
   "id": "8de9bcbd",
   "metadata": {},
   "outputs": [
    {
     "data": {
      "text/plain": [
       "[<matplotlib.lines.Line2D at 0x28a63ffa0>]"
      ]
     },
     "execution_count": 76,
     "metadata": {},
     "output_type": "execute_result"
    },
    {
     "data": {
      "image/png": "[encoded data removed]",
      "text/plain": [
       "<Figure size 640x480 with 1 Axes>"
      ]
     },
     "metadata": {},
     "output_type": "display_data"
    }
   ],
   "source": [
    "inertia = []\n",
    "for k in range(1,11):\n",
    "    model = KMeans(n_clusters=k)\n",
    "    model.fit(data)\n",
    "    inertia.append(model.inertia_)\n",
    "plt.plot()\n",
    "plt.plot(range(1,11),inertia,marker='o')"
   ]
  },
  {
   "cell_type": "code",
   "execution_count": null,
   "id": "1a22a7dd",
   "metadata": {},
   "outputs": [],
   "source": []
  },
  {
   "cell_type": "code",
   "execution_count": null,
   "id": "00824d88",
   "metadata": {},
   "outputs": [],
   "source": []
  }
 ],
 "metadata": {
  "kernelspec": {
   "display_name": "Python 3 (ipykernel)",
   "language": "python",
   "name": "python3"
  },
  "language_info": {
   "codemirror_mode": {
    "name": "ipython",
    "version": 3
   },
   "file_extension": ".py",
   "mimetype": "text/x-python",
   "name": "python",
   "nbconvert_exporter": "python",
   "pygments_lexer": "ipython3",
   "version": "3.9.13"
  }
 },
 "nbformat": 4,
 "nbformat_minor": 5
}
